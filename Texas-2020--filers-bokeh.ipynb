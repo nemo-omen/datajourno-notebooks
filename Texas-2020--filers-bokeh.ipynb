{
 "cells": [
  {
   "cell_type": "markdown",
   "metadata": {},
   "source": [
    "## Texas 2020\n",
    "\n",
    "I'm going to try to wrestle with some of the data provided by the Texas Ethics Commission.\n",
    "\n",
    "So far, what I've found is that they provide multipls CSV files dating back to 2000. Unfortunately, they provide *all* of the filings dating back to 2000. When I downloaded them I received 40 files named contrib_* ... each of them with almost 500,000 rows of data.\n",
    "\n",
    "The other problem, is that these 'contrib' files don't have a one-to-one mapping of contributions to candidates, so I have to find in the data candidate ID (or something similar) is mapped to a candidate's name or campaign.\n",
    "\n",
    "Instructions for deciphering the data are located in the TEC-README file, which is a copy of the readme provided by the TEC."
   ]
  },
  {
   "cell_type": "markdown",
   "metadata": {},
   "source": [
    "It looks like _cover.csv_ might be the place where I can map a filer's name to the `filerIdent` field. "
   ]
  },
  {
   "cell_type": "markdown",
   "metadata": {},
   "source": [
    "Also, check _filers.csv_ "
   ]
  },
  {
   "cell_type": "code",
   "execution_count": 329,
   "metadata": {},
   "outputs": [],
   "source": [
    "import pandas as pd\n",
    "\n",
    "from bokeh.plotting import figure, output_file, show\n",
    "\n",
    "from bokeh.io import output_notebook\n",
    "\n",
    "from bokeh.models import ColumnDataSource, HoverTool, NumeralTickFormatter"
   ]
  },
  {
   "cell_type": "code",
   "execution_count": 330,
   "metadata": {},
   "outputs": [],
   "source": [
    "c_35 = pd.read_csv('tx-ethics-filings/TEC_CF_CSV/contribs_35.csv', usecols = ['receivedDt', 'filerIdent', 'filerName', 'contributionDt', 'contributionAmount', 'contributorNameFirst', 'contributorNameLast', 'contributorNameOrganization'], low_memory=False)"
   ]
  },
  {
   "cell_type": "code",
   "execution_count": 331,
   "metadata": {},
   "outputs": [
    {
     "data": {
      "text/html": [
       "<div>\n",
       "<style scoped>\n",
       "    .dataframe tbody tr th:only-of-type {\n",
       "        vertical-align: middle;\n",
       "    }\n",
       "\n",
       "    .dataframe tbody tr th {\n",
       "        vertical-align: top;\n",
       "    }\n",
       "\n",
       "    .dataframe thead th {\n",
       "        text-align: right;\n",
       "    }\n",
       "</style>\n",
       "<table border=\"1\" class=\"dataframe\">\n",
       "  <thead>\n",
       "    <tr style=\"text-align: right;\">\n",
       "      <th></th>\n",
       "      <th>receivedDt</th>\n",
       "      <th>filerIdent</th>\n",
       "      <th>filerName</th>\n",
       "      <th>contributionDt</th>\n",
       "      <th>contributionAmount</th>\n",
       "      <th>contributorNameOrganization</th>\n",
       "      <th>contributorNameLast</th>\n",
       "      <th>contributorNameFirst</th>\n",
       "    </tr>\n",
       "  </thead>\n",
       "  <tbody>\n",
       "    <tr>\n",
       "      <th>0</th>\n",
       "      <td>20180502</td>\n",
       "      <td>16847</td>\n",
       "      <td>United Services Automobile Association Employe...</td>\n",
       "      <td>20180419</td>\n",
       "      <td>10.00</td>\n",
       "      <td>NaN</td>\n",
       "      <td>Clark</td>\n",
       "      <td>Michael</td>\n",
       "    </tr>\n",
       "    <tr>\n",
       "      <th>1</th>\n",
       "      <td>20180502</td>\n",
       "      <td>16847</td>\n",
       "      <td>United Services Automobile Association Employe...</td>\n",
       "      <td>20180405</td>\n",
       "      <td>6.00</td>\n",
       "      <td>NaN</td>\n",
       "      <td>Clark</td>\n",
       "      <td>Steve</td>\n",
       "    </tr>\n",
       "    <tr>\n",
       "      <th>2</th>\n",
       "      <td>20180502</td>\n",
       "      <td>16847</td>\n",
       "      <td>United Services Automobile Association Employe...</td>\n",
       "      <td>20180419</td>\n",
       "      <td>6.00</td>\n",
       "      <td>NaN</td>\n",
       "      <td>Clark</td>\n",
       "      <td>Steve</td>\n",
       "    </tr>\n",
       "    <tr>\n",
       "      <th>3</th>\n",
       "      <td>20180502</td>\n",
       "      <td>16847</td>\n",
       "      <td>United Services Automobile Association Employe...</td>\n",
       "      <td>20180405</td>\n",
       "      <td>33.51</td>\n",
       "      <td>NaN</td>\n",
       "      <td>Clark</td>\n",
       "      <td>Taylor</td>\n",
       "    </tr>\n",
       "    <tr>\n",
       "      <th>4</th>\n",
       "      <td>20180502</td>\n",
       "      <td>16847</td>\n",
       "      <td>United Services Automobile Association Employe...</td>\n",
       "      <td>20180419</td>\n",
       "      <td>33.51</td>\n",
       "      <td>NaN</td>\n",
       "      <td>Clark</td>\n",
       "      <td>Taylor</td>\n",
       "    </tr>\n",
       "    <tr>\n",
       "      <th>...</th>\n",
       "      <td>...</td>\n",
       "      <td>...</td>\n",
       "      <td>...</td>\n",
       "      <td>...</td>\n",
       "      <td>...</td>\n",
       "      <td>...</td>\n",
       "      <td>...</td>\n",
       "      <td>...</td>\n",
       "    </tr>\n",
       "    <tr>\n",
       "      <th>397289</th>\n",
       "      <td>20180726</td>\n",
       "      <td>16249</td>\n",
       "      <td>Texas Bankers Assn. Bankers PAC</td>\n",
       "      <td>20180725</td>\n",
       "      <td>10.00</td>\n",
       "      <td>NaN</td>\n",
       "      <td>Holman</td>\n",
       "      <td>Kristi</td>\n",
       "    </tr>\n",
       "    <tr>\n",
       "      <th>397290</th>\n",
       "      <td>20180726</td>\n",
       "      <td>16249</td>\n",
       "      <td>Texas Bankers Assn. Bankers PAC</td>\n",
       "      <td>20180725</td>\n",
       "      <td>10.00</td>\n",
       "      <td>NaN</td>\n",
       "      <td>Leyva Varela</td>\n",
       "      <td>Rosario</td>\n",
       "    </tr>\n",
       "    <tr>\n",
       "      <th>397291</th>\n",
       "      <td>20180726</td>\n",
       "      <td>16249</td>\n",
       "      <td>Texas Bankers Assn. Bankers PAC</td>\n",
       "      <td>20180725</td>\n",
       "      <td>20.00</td>\n",
       "      <td>NaN</td>\n",
       "      <td>Moreno</td>\n",
       "      <td>Christina</td>\n",
       "    </tr>\n",
       "    <tr>\n",
       "      <th>397292</th>\n",
       "      <td>20180726</td>\n",
       "      <td>16249</td>\n",
       "      <td>Texas Bankers Assn. Bankers PAC</td>\n",
       "      <td>20180720</td>\n",
       "      <td>100.00</td>\n",
       "      <td>Texas Bankers Association (money contribution ...</td>\n",
       "      <td>NaN</td>\n",
       "      <td>NaN</td>\n",
       "    </tr>\n",
       "    <tr>\n",
       "      <th>397293</th>\n",
       "      <td>20180726</td>\n",
       "      <td>16249</td>\n",
       "      <td>Texas Bankers Assn. Bankers PAC</td>\n",
       "      <td>20180630</td>\n",
       "      <td>1835.97</td>\n",
       "      <td>Texas Bankers Association (inkind salaries for...</td>\n",
       "      <td>NaN</td>\n",
       "      <td>NaN</td>\n",
       "    </tr>\n",
       "  </tbody>\n",
       "</table>\n",
       "<p>397294 rows × 8 columns</p>\n",
       "</div>"
      ],
      "text/plain": [
       "        receivedDt  filerIdent  \\\n",
       "0         20180502       16847   \n",
       "1         20180502       16847   \n",
       "2         20180502       16847   \n",
       "3         20180502       16847   \n",
       "4         20180502       16847   \n",
       "...            ...         ...   \n",
       "397289    20180726       16249   \n",
       "397290    20180726       16249   \n",
       "397291    20180726       16249   \n",
       "397292    20180726       16249   \n",
       "397293    20180726       16249   \n",
       "\n",
       "                                                filerName  contributionDt  \\\n",
       "0       United Services Automobile Association Employe...        20180419   \n",
       "1       United Services Automobile Association Employe...        20180405   \n",
       "2       United Services Automobile Association Employe...        20180419   \n",
       "3       United Services Automobile Association Employe...        20180405   \n",
       "4       United Services Automobile Association Employe...        20180419   \n",
       "...                                                   ...             ...   \n",
       "397289                    Texas Bankers Assn. Bankers PAC        20180725   \n",
       "397290                    Texas Bankers Assn. Bankers PAC        20180725   \n",
       "397291                    Texas Bankers Assn. Bankers PAC        20180725   \n",
       "397292                    Texas Bankers Assn. Bankers PAC        20180720   \n",
       "397293                    Texas Bankers Assn. Bankers PAC        20180630   \n",
       "\n",
       "        contributionAmount                        contributorNameOrganization  \\\n",
       "0                    10.00                                                NaN   \n",
       "1                     6.00                                                NaN   \n",
       "2                     6.00                                                NaN   \n",
       "3                    33.51                                                NaN   \n",
       "4                    33.51                                                NaN   \n",
       "...                    ...                                                ...   \n",
       "397289               10.00                                                NaN   \n",
       "397290               10.00                                                NaN   \n",
       "397291               20.00                                                NaN   \n",
       "397292              100.00  Texas Bankers Association (money contribution ...   \n",
       "397293             1835.97  Texas Bankers Association (inkind salaries for...   \n",
       "\n",
       "       contributorNameLast contributorNameFirst  \n",
       "0                    Clark              Michael  \n",
       "1                    Clark                Steve  \n",
       "2                    Clark                Steve  \n",
       "3                    Clark               Taylor  \n",
       "4                    Clark               Taylor  \n",
       "...                    ...                  ...  \n",
       "397289              Holman               Kristi  \n",
       "397290        Leyva Varela              Rosario  \n",
       "397291              Moreno            Christina  \n",
       "397292                 NaN                  NaN  \n",
       "397293                 NaN                  NaN  \n",
       "\n",
       "[397294 rows x 8 columns]"
      ]
     },
     "execution_count": 331,
     "metadata": {},
     "output_type": "execute_result"
    }
   ],
   "source": [
    "c_35"
   ]
  },
  {
   "cell_type": "code",
   "execution_count": 332,
   "metadata": {},
   "outputs": [],
   "source": [
    "c_35 = c_35[c_35.receivedDt >= 20181231.0]"
   ]
  },
  {
   "cell_type": "code",
   "execution_count": 333,
   "metadata": {},
   "outputs": [],
   "source": [
    "c_36 = pd.read_csv('tx-ethics-filings/TEC_CF_CSV/contribs_36.csv', usecols = ['receivedDt', 'filerIdent', 'filerName', 'contributionDt', 'contributionAmount', 'contributorNameFirst', 'contributorNameLast', 'contributorNameOrganization'], low_memory=False)"
   ]
  },
  {
   "cell_type": "code",
   "execution_count": 334,
   "metadata": {},
   "outputs": [],
   "source": [
    "c_37 = pd.read_csv('tx-ethics-filings/TEC_CF_CSV/contribs_37.csv', usecols = ['receivedDt', 'filerIdent', 'filerName', 'contributionDt', 'contributionAmount', 'contributorNameFirst', 'contributorNameLast', 'contributorNameOrganization'], low_memory=False)"
   ]
  },
  {
   "cell_type": "code",
   "execution_count": 335,
   "metadata": {},
   "outputs": [],
   "source": [
    "darby_c_37 = c_37[c_37.filerIdent == 51651]"
   ]
  },
  {
   "cell_type": "code",
   "execution_count": 336,
   "metadata": {},
   "outputs": [],
   "source": [
    "c_38 = pd.read_csv('tx-ethics-filings/TEC_CF_CSV/contribs_38.csv', usecols = ['receivedDt', 'filerIdent', 'filerName', 'contributionDt', 'contributionAmount', 'contributorNameFirst', 'contributorNameLast', 'contributorNameOrganization'], low_memory=False)"
   ]
  },
  {
   "cell_type": "code",
   "execution_count": 337,
   "metadata": {},
   "outputs": [],
   "source": [
    "darby_c_38 = c_38[c_38.filerIdent == 51651]"
   ]
  },
  {
   "cell_type": "code",
   "execution_count": 338,
   "metadata": {},
   "outputs": [],
   "source": [
    "c_39 = pd.read_csv('tx-ethics-filings/TEC_CF_CSV/contribs_39.csv', usecols = ['receivedDt', 'filerIdent', 'filerName', 'contributionDt', 'contributionAmount', 'contributorNameFirst', 'contributorNameLast', 'contributorNameOrganization'], low_memory=False)"
   ]
  },
  {
   "cell_type": "code",
   "execution_count": 339,
   "metadata": {},
   "outputs": [],
   "source": [
    "darby_c_39 = c_39[c_39.filerIdent == 51651]"
   ]
  },
  {
   "cell_type": "code",
   "execution_count": 340,
   "metadata": {},
   "outputs": [],
   "source": [
    "c_40 = pd.read_csv('tx-ethics-filings/TEC_CF_CSV/contribs_40.csv', usecols = ['receivedDt', 'filerIdent', 'filerName', 'contributionDt', 'contributionAmount', 'contributorNameFirst', 'contributorNameLast', 'contributorNameOrganization'], low_memory=False)"
   ]
  },
  {
   "cell_type": "code",
   "execution_count": 341,
   "metadata": {},
   "outputs": [],
   "source": [
    "darby_c_40 = c_40[c_40.filerIdent == 51651]"
   ]
  },
  {
   "cell_type": "code",
   "execution_count": 342,
   "metadata": {},
   "outputs": [],
   "source": [
    "darby_contribs = darby_c_37.append([darby_c_38, darby_c_39, darby_c_40], sort=False).sort_values(by=['contributionAmount', 'contributorNameOrganization'], ascending=True).to_csv('local-contribs/darby.csv')"
   ]
  },
  {
   "cell_type": "code",
   "execution_count": 343,
   "metadata": {},
   "outputs": [],
   "source": [
    "perry_c_36 = c_36[c_36.filerIdent == 66066]"
   ]
  },
  {
   "cell_type": "code",
   "execution_count": 344,
   "metadata": {},
   "outputs": [],
   "source": [
    "perry_c_37 = c_37[c_37.filerIdent == 66066]"
   ]
  },
  {
   "cell_type": "code",
   "execution_count": 345,
   "metadata": {},
   "outputs": [],
   "source": [
    "perry_c_38 = c_38[c_38.filerIdent == 66066]\n",
    "perry_c_39 = c_39[c_39.filerIdent == 66066]\n",
    "perry_c_40 = c_40[c_40.filerIdent == 66066]"
   ]
  },
  {
   "cell_type": "code",
   "execution_count": 346,
   "metadata": {},
   "outputs": [],
   "source": [
    "perry_contribs = perry_c_36.append([perry_c_37, perry_c_38, perry_c_39, perry_c_40], sort=False).sort_values(by=['contributionAmount', 'contributorNameOrganization'], ascending=True)"
   ]
  },
  {
   "cell_type": "code",
   "execution_count": 347,
   "metadata": {},
   "outputs": [],
   "source": [
    "perry_csv = perry_contribs.to_csv('local-contribs/perry.csv')"
   ]
  },
  {
   "cell_type": "code",
   "execution_count": 348,
   "metadata": {},
   "outputs": [
    {
     "name": "stdout",
     "output_type": "stream",
     "text": [
      "<class 'pandas.core.frame.DataFrame'>\n",
      "Int64Index: 630 entries, 258398 to 117409\n",
      "Data columns (total 8 columns):\n",
      "receivedDt                     630 non-null int64\n",
      "filerIdent                     630 non-null int64\n",
      "filerName                      630 non-null object\n",
      "contributionDt                 630 non-null int64\n",
      "contributionAmount             630 non-null float64\n",
      "contributorNameOrganization    303 non-null object\n",
      "contributorNameLast            327 non-null object\n",
      "contributorNameFirst           327 non-null object\n",
      "dtypes: float64(1), int64(3), object(4)\n",
      "memory usage: 34.5+ KB\n"
     ]
    }
   ],
   "source": [
    "perry_contribs.info()"
   ]
  },
  {
   "cell_type": "code",
   "execution_count": 349,
   "metadata": {},
   "outputs": [],
   "source": [
    "perry_totals = perry_contribs.contributionAmount.sum()"
   ]
  },
  {
   "cell_type": "code",
   "execution_count": 350,
   "metadata": {},
   "outputs": [
    {
     "data": {
      "text/plain": [
       "714965.85"
      ]
     },
     "execution_count": 350,
     "metadata": {},
     "output_type": "execute_result"
    }
   ],
   "source": [
    "perry_totals"
   ]
  },
  {
   "cell_type": "code",
   "execution_count": 351,
   "metadata": {},
   "outputs": [],
   "source": [
    "individual_contribs_grouped = perry_contribs.groupby([\"contributorNameFirst\", \"contributorNameLast\"]).contributionAmount.sum().reset_index().sort_values(\"contributionAmount\", ascending=False)"
   ]
  },
  {
   "cell_type": "code",
   "execution_count": 352,
   "metadata": {},
   "outputs": [],
   "source": [
    "org_contribs_grouped = perry_contribs.groupby(\"contributorNameOrganization\").contributionAmount.sum().reset_index().sort_values(\"contributionAmount\", ascending=False)"
   ]
  },
  {
   "cell_type": "code",
   "execution_count": 353,
   "metadata": {},
   "outputs": [],
   "source": [
    "individual_contribs_grouped.to_csv('local-contribs/perry-grouped-individual.csv')"
   ]
  },
  {
   "cell_type": "code",
   "execution_count": 354,
   "metadata": {},
   "outputs": [],
   "source": [
    "org_contribs_grouped.to_csv('local-contribs/perry-grouped-orgs.csv')"
   ]
  },
  {
   "cell_type": "code",
   "execution_count": 355,
   "metadata": {},
   "outputs": [
    {
     "data": {
      "text/html": [
       "\n",
       "    <div class=\"bk-root\">\n",
       "        <a href=\"https://bokeh.org\" target=\"_blank\" class=\"bk-logo bk-logo-small bk-logo-notebook\"></a>\n",
       "        <span id=\"22188\">Loading BokehJS ...</span>\n",
       "    </div>"
      ]
     },
     "metadata": {},
     "output_type": "display_data"
    },
    {
     "data": {
      "application/javascript": [
       "\n",
       "(function(root) {\n",
       "  function now() {\n",
       "    return new Date();\n",
       "  }\n",
       "\n",
       "  var force = true;\n",
       "\n",
       "  if (typeof root._bokeh_onload_callbacks === \"undefined\" || force === true) {\n",
       "    root._bokeh_onload_callbacks = [];\n",
       "    root._bokeh_is_loading = undefined;\n",
       "  }\n",
       "\n",
       "  var JS_MIME_TYPE = 'application/javascript';\n",
       "  var HTML_MIME_TYPE = 'text/html';\n",
       "  var EXEC_MIME_TYPE = 'application/vnd.bokehjs_exec.v0+json';\n",
       "  var CLASS_NAME = 'output_bokeh rendered_html';\n",
       "\n",
       "  /**\n",
       "   * Render data to the DOM node\n",
       "   */\n",
       "  function render(props, node) {\n",
       "    var script = document.createElement(\"script\");\n",
       "    node.appendChild(script);\n",
       "  }\n",
       "\n",
       "  /**\n",
       "   * Handle when an output is cleared or removed\n",
       "   */\n",
       "  function handleClearOutput(event, handle) {\n",
       "    var cell = handle.cell;\n",
       "\n",
       "    var id = cell.output_area._bokeh_element_id;\n",
       "    var server_id = cell.output_area._bokeh_server_id;\n",
       "    // Clean up Bokeh references\n",
       "    if (id != null && id in Bokeh.index) {\n",
       "      Bokeh.index[id].model.document.clear();\n",
       "      delete Bokeh.index[id];\n",
       "    }\n",
       "\n",
       "    if (server_id !== undefined) {\n",
       "      // Clean up Bokeh references\n",
       "      var cmd = \"from bokeh.io.state import curstate; print(curstate().uuid_to_server['\" + server_id + \"'].get_sessions()[0].document.roots[0]._id)\";\n",
       "      cell.notebook.kernel.execute(cmd, {\n",
       "        iopub: {\n",
       "          output: function(msg) {\n",
       "            var id = msg.content.text.trim();\n",
       "            if (id in Bokeh.index) {\n",
       "              Bokeh.index[id].model.document.clear();\n",
       "              delete Bokeh.index[id];\n",
       "            }\n",
       "          }\n",
       "        }\n",
       "      });\n",
       "      // Destroy server and session\n",
       "      var cmd = \"import bokeh.io.notebook as ion; ion.destroy_server('\" + server_id + \"')\";\n",
       "      cell.notebook.kernel.execute(cmd);\n",
       "    }\n",
       "  }\n",
       "\n",
       "  /**\n",
       "   * Handle when a new output is added\n",
       "   */\n",
       "  function handleAddOutput(event, handle) {\n",
       "    var output_area = handle.output_area;\n",
       "    var output = handle.output;\n",
       "\n",
       "    // limit handleAddOutput to display_data with EXEC_MIME_TYPE content only\n",
       "    if ((output.output_type != \"display_data\") || (!output.data.hasOwnProperty(EXEC_MIME_TYPE))) {\n",
       "      return\n",
       "    }\n",
       "\n",
       "    var toinsert = output_area.element.find(\".\" + CLASS_NAME.split(' ')[0]);\n",
       "\n",
       "    if (output.metadata[EXEC_MIME_TYPE][\"id\"] !== undefined) {\n",
       "      toinsert[toinsert.length - 1].firstChild.textContent = output.data[JS_MIME_TYPE];\n",
       "      // store reference to embed id on output_area\n",
       "      output_area._bokeh_element_id = output.metadata[EXEC_MIME_TYPE][\"id\"];\n",
       "    }\n",
       "    if (output.metadata[EXEC_MIME_TYPE][\"server_id\"] !== undefined) {\n",
       "      var bk_div = document.createElement(\"div\");\n",
       "      bk_div.innerHTML = output.data[HTML_MIME_TYPE];\n",
       "      var script_attrs = bk_div.children[0].attributes;\n",
       "      for (var i = 0; i < script_attrs.length; i++) {\n",
       "        toinsert[toinsert.length - 1].firstChild.setAttribute(script_attrs[i].name, script_attrs[i].value);\n",
       "      }\n",
       "      // store reference to server id on output_area\n",
       "      output_area._bokeh_server_id = output.metadata[EXEC_MIME_TYPE][\"server_id\"];\n",
       "    }\n",
       "  }\n",
       "\n",
       "  function register_renderer(events, OutputArea) {\n",
       "\n",
       "    function append_mime(data, metadata, element) {\n",
       "      // create a DOM node to render to\n",
       "      var toinsert = this.create_output_subarea(\n",
       "        metadata,\n",
       "        CLASS_NAME,\n",
       "        EXEC_MIME_TYPE\n",
       "      );\n",
       "      this.keyboard_manager.register_events(toinsert);\n",
       "      // Render to node\n",
       "      var props = {data: data, metadata: metadata[EXEC_MIME_TYPE]};\n",
       "      render(props, toinsert[toinsert.length - 1]);\n",
       "      element.append(toinsert);\n",
       "      return toinsert\n",
       "    }\n",
       "\n",
       "    /* Handle when an output is cleared or removed */\n",
       "    events.on('clear_output.CodeCell', handleClearOutput);\n",
       "    events.on('delete.Cell', handleClearOutput);\n",
       "\n",
       "    /* Handle when a new output is added */\n",
       "    events.on('output_added.OutputArea', handleAddOutput);\n",
       "\n",
       "    /**\n",
       "     * Register the mime type and append_mime function with output_area\n",
       "     */\n",
       "    OutputArea.prototype.register_mime_type(EXEC_MIME_TYPE, append_mime, {\n",
       "      /* Is output safe? */\n",
       "      safe: true,\n",
       "      /* Index of renderer in `output_area.display_order` */\n",
       "      index: 0\n",
       "    });\n",
       "  }\n",
       "\n",
       "  // register the mime type if in Jupyter Notebook environment and previously unregistered\n",
       "  if (root.Jupyter !== undefined) {\n",
       "    var events = require('base/js/events');\n",
       "    var OutputArea = require('notebook/js/outputarea').OutputArea;\n",
       "\n",
       "    if (OutputArea.prototype.mime_types().indexOf(EXEC_MIME_TYPE) == -1) {\n",
       "      register_renderer(events, OutputArea);\n",
       "    }\n",
       "  }\n",
       "\n",
       "  \n",
       "  if (typeof (root._bokeh_timeout) === \"undefined\" || force === true) {\n",
       "    root._bokeh_timeout = Date.now() + 5000;\n",
       "    root._bokeh_failed_load = false;\n",
       "  }\n",
       "\n",
       "  var NB_LOAD_WARNING = {'data': {'text/html':\n",
       "     \"<div style='background-color: #fdd'>\\n\"+\n",
       "     \"<p>\\n\"+\n",
       "     \"BokehJS does not appear to have successfully loaded. If loading BokehJS from CDN, this \\n\"+\n",
       "     \"may be due to a slow or bad network connection. Possible fixes:\\n\"+\n",
       "     \"</p>\\n\"+\n",
       "     \"<ul>\\n\"+\n",
       "     \"<li>re-rerun `output_notebook()` to attempt to load from CDN again, or</li>\\n\"+\n",
       "     \"<li>use INLINE resources instead, as so:</li>\\n\"+\n",
       "     \"</ul>\\n\"+\n",
       "     \"<code>\\n\"+\n",
       "     \"from bokeh.resources import INLINE\\n\"+\n",
       "     \"output_notebook(resources=INLINE)\\n\"+\n",
       "     \"</code>\\n\"+\n",
       "     \"</div>\"}};\n",
       "\n",
       "  function display_loaded() {\n",
       "    var el = document.getElementById(\"22188\");\n",
       "    if (el != null) {\n",
       "      el.textContent = \"BokehJS is loading...\";\n",
       "    }\n",
       "    if (root.Bokeh !== undefined) {\n",
       "      if (el != null) {\n",
       "        el.textContent = \"BokehJS \" + root.Bokeh.version + \" successfully loaded.\";\n",
       "      }\n",
       "    } else if (Date.now() < root._bokeh_timeout) {\n",
       "      setTimeout(display_loaded, 100)\n",
       "    }\n",
       "  }\n",
       "\n",
       "\n",
       "  function run_callbacks() {\n",
       "    try {\n",
       "      root._bokeh_onload_callbacks.forEach(function(callback) {\n",
       "        if (callback != null)\n",
       "          callback();\n",
       "      });\n",
       "    } finally {\n",
       "      delete root._bokeh_onload_callbacks\n",
       "    }\n",
       "    console.debug(\"Bokeh: all callbacks have finished\");\n",
       "  }\n",
       "\n",
       "  function load_libs(css_urls, js_urls, callback) {\n",
       "    if (css_urls == null) css_urls = [];\n",
       "    if (js_urls == null) js_urls = [];\n",
       "\n",
       "    root._bokeh_onload_callbacks.push(callback);\n",
       "    if (root._bokeh_is_loading > 0) {\n",
       "      console.debug(\"Bokeh: BokehJS is being loaded, scheduling callback at\", now());\n",
       "      return null;\n",
       "    }\n",
       "    if (js_urls == null || js_urls.length === 0) {\n",
       "      run_callbacks();\n",
       "      return null;\n",
       "    }\n",
       "    console.debug(\"Bokeh: BokehJS not loaded, scheduling load and callback at\", now());\n",
       "    root._bokeh_is_loading = css_urls.length + js_urls.length;\n",
       "\n",
       "    function on_load() {\n",
       "      root._bokeh_is_loading--;\n",
       "      if (root._bokeh_is_loading === 0) {\n",
       "        console.debug(\"Bokeh: all BokehJS libraries/stylesheets loaded\");\n",
       "        run_callbacks()\n",
       "      }\n",
       "    }\n",
       "\n",
       "    function on_error() {\n",
       "      console.error(\"failed to load \" + url);\n",
       "    }\n",
       "\n",
       "    for (var i = 0; i < css_urls.length; i++) {\n",
       "      var url = css_urls[i];\n",
       "      const element = document.createElement(\"link\");\n",
       "      element.onload = on_load;\n",
       "      element.onerror = on_error;\n",
       "      element.rel = \"stylesheet\";\n",
       "      element.type = \"text/css\";\n",
       "      element.href = url;\n",
       "      console.debug(\"Bokeh: injecting link tag for BokehJS stylesheet: \", url);\n",
       "      document.body.appendChild(element);\n",
       "    }\n",
       "\n",
       "    for (var i = 0; i < js_urls.length; i++) {\n",
       "      var url = js_urls[i];\n",
       "      var element = document.createElement('script');\n",
       "      element.onload = on_load;\n",
       "      element.onerror = on_error;\n",
       "      element.async = false;\n",
       "      element.src = url;\n",
       "      console.debug(\"Bokeh: injecting script tag for BokehJS library: \", url);\n",
       "      document.head.appendChild(element);\n",
       "    }\n",
       "  };var element = document.getElementById(\"22188\");\n",
       "  if (element == null) {\n",
       "    console.error(\"Bokeh: ERROR: autoload.js configured with elementid '22188' but no matching script tag was found. \")\n",
       "    return false;\n",
       "  }\n",
       "\n",
       "  function inject_raw_css(css) {\n",
       "    const element = document.createElement(\"style\");\n",
       "    element.appendChild(document.createTextNode(css));\n",
       "    document.body.appendChild(element);\n",
       "  }\n",
       "\n",
       "  \n",
       "  var js_urls = [\"https://cdn.pydata.org/bokeh/release/bokeh-1.4.0.min.js\", \"https://cdn.pydata.org/bokeh/release/bokeh-widgets-1.4.0.min.js\", \"https://cdn.pydata.org/bokeh/release/bokeh-tables-1.4.0.min.js\", \"https://cdn.pydata.org/bokeh/release/bokeh-gl-1.4.0.min.js\"];\n",
       "  var css_urls = [];\n",
       "  \n",
       "\n",
       "  var inline_js = [\n",
       "    function(Bokeh) {\n",
       "      Bokeh.set_log_level(\"info\");\n",
       "    },\n",
       "    function(Bokeh) {\n",
       "    \n",
       "    \n",
       "    }\n",
       "  ];\n",
       "\n",
       "  function run_inline_js() {\n",
       "    \n",
       "    if (root.Bokeh !== undefined || force === true) {\n",
       "      \n",
       "    for (var i = 0; i < inline_js.length; i++) {\n",
       "      inline_js[i].call(root, root.Bokeh);\n",
       "    }\n",
       "    if (force === true) {\n",
       "        display_loaded();\n",
       "      }} else if (Date.now() < root._bokeh_timeout) {\n",
       "      setTimeout(run_inline_js, 100);\n",
       "    } else if (!root._bokeh_failed_load) {\n",
       "      console.log(\"Bokeh: BokehJS failed to load within specified timeout.\");\n",
       "      root._bokeh_failed_load = true;\n",
       "    } else if (force !== true) {\n",
       "      var cell = $(document.getElementById(\"22188\")).parents('.cell').data().cell;\n",
       "      cell.output_area.append_execute_result(NB_LOAD_WARNING)\n",
       "    }\n",
       "\n",
       "  }\n",
       "\n",
       "  if (root._bokeh_is_loading === 0) {\n",
       "    console.debug(\"Bokeh: BokehJS loaded, going straight to plotting\");\n",
       "    run_inline_js();\n",
       "  } else {\n",
       "    load_libs(css_urls, js_urls, function() {\n",
       "      console.debug(\"Bokeh: BokehJS plotting callback run at\", now());\n",
       "      run_inline_js();\n",
       "    });\n",
       "  }\n",
       "}(window));"
      ],
      "application/vnd.bokehjs_load.v0+json": "\n(function(root) {\n  function now() {\n    return new Date();\n  }\n\n  var force = true;\n\n  if (typeof root._bokeh_onload_callbacks === \"undefined\" || force === true) {\n    root._bokeh_onload_callbacks = [];\n    root._bokeh_is_loading = undefined;\n  }\n\n  \n\n  \n  if (typeof (root._bokeh_timeout) === \"undefined\" || force === true) {\n    root._bokeh_timeout = Date.now() + 5000;\n    root._bokeh_failed_load = false;\n  }\n\n  var NB_LOAD_WARNING = {'data': {'text/html':\n     \"<div style='background-color: #fdd'>\\n\"+\n     \"<p>\\n\"+\n     \"BokehJS does not appear to have successfully loaded. If loading BokehJS from CDN, this \\n\"+\n     \"may be due to a slow or bad network connection. Possible fixes:\\n\"+\n     \"</p>\\n\"+\n     \"<ul>\\n\"+\n     \"<li>re-rerun `output_notebook()` to attempt to load from CDN again, or</li>\\n\"+\n     \"<li>use INLINE resources instead, as so:</li>\\n\"+\n     \"</ul>\\n\"+\n     \"<code>\\n\"+\n     \"from bokeh.resources import INLINE\\n\"+\n     \"output_notebook(resources=INLINE)\\n\"+\n     \"</code>\\n\"+\n     \"</div>\"}};\n\n  function display_loaded() {\n    var el = document.getElementById(\"22188\");\n    if (el != null) {\n      el.textContent = \"BokehJS is loading...\";\n    }\n    if (root.Bokeh !== undefined) {\n      if (el != null) {\n        el.textContent = \"BokehJS \" + root.Bokeh.version + \" successfully loaded.\";\n      }\n    } else if (Date.now() < root._bokeh_timeout) {\n      setTimeout(display_loaded, 100)\n    }\n  }\n\n\n  function run_callbacks() {\n    try {\n      root._bokeh_onload_callbacks.forEach(function(callback) {\n        if (callback != null)\n          callback();\n      });\n    } finally {\n      delete root._bokeh_onload_callbacks\n    }\n    console.debug(\"Bokeh: all callbacks have finished\");\n  }\n\n  function load_libs(css_urls, js_urls, callback) {\n    if (css_urls == null) css_urls = [];\n    if (js_urls == null) js_urls = [];\n\n    root._bokeh_onload_callbacks.push(callback);\n    if (root._bokeh_is_loading > 0) {\n      console.debug(\"Bokeh: BokehJS is being loaded, scheduling callback at\", now());\n      return null;\n    }\n    if (js_urls == null || js_urls.length === 0) {\n      run_callbacks();\n      return null;\n    }\n    console.debug(\"Bokeh: BokehJS not loaded, scheduling load and callback at\", now());\n    root._bokeh_is_loading = css_urls.length + js_urls.length;\n\n    function on_load() {\n      root._bokeh_is_loading--;\n      if (root._bokeh_is_loading === 0) {\n        console.debug(\"Bokeh: all BokehJS libraries/stylesheets loaded\");\n        run_callbacks()\n      }\n    }\n\n    function on_error() {\n      console.error(\"failed to load \" + url);\n    }\n\n    for (var i = 0; i < css_urls.length; i++) {\n      var url = css_urls[i];\n      const element = document.createElement(\"link\");\n      element.onload = on_load;\n      element.onerror = on_error;\n      element.rel = \"stylesheet\";\n      element.type = \"text/css\";\n      element.href = url;\n      console.debug(\"Bokeh: injecting link tag for BokehJS stylesheet: \", url);\n      document.body.appendChild(element);\n    }\n\n    for (var i = 0; i < js_urls.length; i++) {\n      var url = js_urls[i];\n      var element = document.createElement('script');\n      element.onload = on_load;\n      element.onerror = on_error;\n      element.async = false;\n      element.src = url;\n      console.debug(\"Bokeh: injecting script tag for BokehJS library: \", url);\n      document.head.appendChild(element);\n    }\n  };var element = document.getElementById(\"22188\");\n  if (element == null) {\n    console.error(\"Bokeh: ERROR: autoload.js configured with elementid '22188' but no matching script tag was found. \")\n    return false;\n  }\n\n  function inject_raw_css(css) {\n    const element = document.createElement(\"style\");\n    element.appendChild(document.createTextNode(css));\n    document.body.appendChild(element);\n  }\n\n  \n  var js_urls = [\"https://cdn.pydata.org/bokeh/release/bokeh-1.4.0.min.js\", \"https://cdn.pydata.org/bokeh/release/bokeh-widgets-1.4.0.min.js\", \"https://cdn.pydata.org/bokeh/release/bokeh-tables-1.4.0.min.js\", \"https://cdn.pydata.org/bokeh/release/bokeh-gl-1.4.0.min.js\"];\n  var css_urls = [];\n  \n\n  var inline_js = [\n    function(Bokeh) {\n      Bokeh.set_log_level(\"info\");\n    },\n    function(Bokeh) {\n    \n    \n    }\n  ];\n\n  function run_inline_js() {\n    \n    if (root.Bokeh !== undefined || force === true) {\n      \n    for (var i = 0; i < inline_js.length; i++) {\n      inline_js[i].call(root, root.Bokeh);\n    }\n    if (force === true) {\n        display_loaded();\n      }} else if (Date.now() < root._bokeh_timeout) {\n      setTimeout(run_inline_js, 100);\n    } else if (!root._bokeh_failed_load) {\n      console.log(\"Bokeh: BokehJS failed to load within specified timeout.\");\n      root._bokeh_failed_load = true;\n    } else if (force !== true) {\n      var cell = $(document.getElementById(\"22188\")).parents('.cell').data().cell;\n      cell.output_area.append_execute_result(NB_LOAD_WARNING)\n    }\n\n  }\n\n  if (root._bokeh_is_loading === 0) {\n    console.debug(\"Bokeh: BokehJS loaded, going straight to plotting\");\n    run_inline_js();\n  } else {\n    load_libs(css_urls, js_urls, function() {\n      console.debug(\"Bokeh: BokehJS plotting callback run at\", now());\n      run_inline_js();\n    });\n  }\n}(window));"
     },
     "metadata": {},
     "output_type": "display_data"
    }
   ],
   "source": [
    "org_source = ColumnDataSource(org_contribs_grouped.head(10))\n",
    "ind_source = ColumnDataSource(individual_contribs_grouped.head(10))\n",
    "\n",
    "output_file('perry-graphs.html')\n",
    "output_notebook()"
   ]
  },
  {
   "cell_type": "code",
   "execution_count": 357,
   "metadata": {},
   "outputs": [
    {
     "data": {
      "text/html": [
       "\n",
       "\n",
       "\n",
       "\n",
       "\n",
       "\n",
       "  <div class=\"bk-root\" id=\"b4d2c7e9-300f-4f04-a679-6ec54eb83691\" data-root-id=\"22228\"></div>\n"
      ]
     },
     "metadata": {},
     "output_type": "display_data"
    },
    {
     "data": {
      "application/javascript": [
       "(function(root) {\n",
       "  function embed_document(root) {\n",
       "    \n",
       "  var docs_json = {\"09c7d564-fe44-47c8-8225-827788697449\":{\"roots\":{\"references\":[{\"attributes\":{\"below\":[{\"id\":\"22239\",\"type\":\"LinearAxis\"}],\"center\":[{\"id\":\"22243\",\"type\":\"Grid\"},{\"id\":\"22247\",\"type\":\"Grid\"}],\"left\":[{\"id\":\"22244\",\"type\":\"CategoricalAxis\"}],\"plot_height\":400,\"plot_width\":500,\"renderers\":[{\"id\":\"22264\",\"type\":\"GlyphRenderer\"}],\"title\":{\"id\":\"22229\",\"type\":\"Title\"},\"toolbar\":{\"id\":\"22254\",\"type\":\"Toolbar\"},\"toolbar_location\":null,\"x_range\":{\"id\":\"22231\",\"type\":\"DataRange1d\"},\"x_scale\":{\"id\":\"22235\",\"type\":\"LinearScale\"},\"y_range\":{\"id\":\"22233\",\"type\":\"FactorRange\"},\"y_scale\":{\"id\":\"22237\",\"type\":\"CategoricalScale\"}},\"id\":\"22228\",\"subtype\":\"Figure\",\"type\":\"Plot\"},{\"attributes\":{\"fill_color\":{\"value\":\"cornflowerblue\"},\"height\":{\"value\":0.25},\"line_color\":{\"value\":\"cornflowerblue\"},\"right\":{\"field\":\"contributionAmount\"},\"y\":{\"field\":\"contributorNameOrganization\"}},\"id\":\"22262\",\"type\":\"HBar\"},{\"attributes\":{\"ticks\":[5000,10000,15000,20000]},\"id\":\"22267\",\"type\":\"FixedTicker\"},{\"attributes\":{\"bottom_units\":\"screen\",\"fill_alpha\":{\"value\":0.5},\"fill_color\":{\"value\":\"lightgrey\"},\"left_units\":\"screen\",\"level\":\"overlay\",\"line_alpha\":{\"value\":1.0},\"line_color\":{\"value\":\"black\"},\"line_dash\":[4,4],\"line_width\":{\"value\":2},\"render_mode\":\"css\",\"right_units\":\"screen\",\"top_units\":\"screen\"},\"id\":\"22662\",\"type\":\"BoxAnnotation\"},{\"attributes\":{},\"id\":\"22252\",\"type\":\"ResetTool\"},{\"attributes\":{\"fill_alpha\":{\"value\":0.1},\"fill_color\":{\"value\":\"#1f77b4\"},\"height\":{\"value\":0.25},\"line_alpha\":{\"value\":0.1},\"line_color\":{\"value\":\"#1f77b4\"},\"right\":{\"field\":\"contributionAmount\"},\"y\":{\"field\":\"contributorNameOrganization\"}},\"id\":\"22263\",\"type\":\"HBar\"},{\"attributes\":{\"data_source\":{\"id\":\"22186\",\"type\":\"ColumnDataSource\"},\"glyph\":{\"id\":\"22262\",\"type\":\"HBar\"},\"hover_glyph\":null,\"muted_glyph\":null,\"nonselection_glyph\":{\"id\":\"22263\",\"type\":\"HBar\"},\"selection_glyph\":null,\"view\":{\"id\":\"22265\",\"type\":\"CDSView\"}},\"id\":\"22264\",\"type\":\"GlyphRenderer\"},{\"attributes\":{},\"id\":\"22248\",\"type\":\"PanTool\"},{\"attributes\":{},\"id\":\"22237\",\"type\":\"CategoricalScale\"},{\"attributes\":{\"dimension\":1,\"ticker\":{\"id\":\"22245\",\"type\":\"CategoricalTicker\"}},\"id\":\"22247\",\"type\":\"Grid\"},{\"attributes\":{\"source\":{\"id\":\"22186\",\"type\":\"ColumnDataSource\"}},\"id\":\"22265\",\"type\":\"CDSView\"},{\"attributes\":{\"overlay\":{\"id\":\"22662\",\"type\":\"BoxAnnotation\"}},\"id\":\"22250\",\"type\":\"BoxZoomTool\"},{\"attributes\":{},\"id\":\"22240\",\"type\":\"BasicTicker\"},{\"attributes\":{\"active_drag\":\"auto\",\"active_inspect\":\"auto\",\"active_multi\":null,\"active_scroll\":\"auto\",\"active_tap\":\"auto\",\"tools\":[{\"id\":\"22248\",\"type\":\"PanTool\"},{\"id\":\"22249\",\"type\":\"WheelZoomTool\"},{\"id\":\"22250\",\"type\":\"BoxZoomTool\"},{\"id\":\"22251\",\"type\":\"SaveTool\"},{\"id\":\"22252\",\"type\":\"ResetTool\"},{\"id\":\"22253\",\"type\":\"HelpTool\"},{\"id\":\"22270\",\"type\":\"HoverTool\"}]},\"id\":\"22254\",\"type\":\"Toolbar\"},{\"attributes\":{\"callback\":null,\"data\":{\"contributionAmount\":{\"__ndarray__\":\"AAAAAAD51UAAAAAAAIjTQAAAAAAAiNNAAAAAAACI00AAAAAAAEzNQAAAAAAAfMVAAAAAAACIw0AAAAAAAIjDQAAAAAAAiMNAAAAAAABAv0A=\",\"dtype\":\"float64\",\"shape\":[10]},\"contributorNameOrganization\":[\"Texas Association of Realtors PAC\",\"At&t Texas PAC\",\"Texas Land Developers Association PAC\",\"THCAPAC\",\"Charter Communications Inc PAC\",\"Delisi Communications PAC\",\"Texas Land Title Association PAC\",\"Texas Aggregates & Concrete Ass. PAC\",\"Texas Oil & Gas Association Good Goverment Committee\",\"TSCPA PAC\"],\"index\":[115,14,125,99,24,28,126,110,129,102]},\"selected\":{\"id\":\"22661\",\"type\":\"Selection\"},\"selection_policy\":{\"id\":\"22660\",\"type\":\"UnionRenderers\"}},\"id\":\"22186\",\"type\":\"ColumnDataSource\"},{\"attributes\":{\"callback\":null,\"mode\":\"hline\",\"tooltips\":\"@contributorNameOrganization\"},\"id\":\"22270\",\"type\":\"HoverTool\"},{\"attributes\":{},\"id\":\"22660\",\"type\":\"UnionRenderers\"},{\"attributes\":{\"text\":\"Top Organizational Contributors\"},\"id\":\"22229\",\"type\":\"Title\"},{\"attributes\":{},\"id\":\"22235\",\"type\":\"LinearScale\"},{\"attributes\":{},\"id\":\"22661\",\"type\":\"Selection\"},{\"attributes\":{\"ticker\":{\"id\":\"22240\",\"type\":\"BasicTicker\"}},\"id\":\"22243\",\"type\":\"Grid\"},{\"attributes\":{\"callback\":null,\"factors\":[\"Texas Association of Realtors PAC\",\"At&t Texas PAC\",\"Texas Land Developers Association PAC\",\"THCAPAC\",\"Charter Communications Inc PAC\",\"Delisi Communications PAC\",\"Texas Land Title Association PAC\",\"Texas Aggregates & Concrete Ass. PAC\",\"Texas Oil & Gas Association Good Goverment Committee\",\"TSCPA PAC\"]},\"id\":\"22233\",\"type\":\"FactorRange\"},{\"attributes\":{\"formatter\":{\"id\":\"22658\",\"type\":\"CategoricalTickFormatter\"},\"ticker\":{\"id\":\"22245\",\"type\":\"CategoricalTicker\"},\"visible\":false},\"id\":\"22244\",\"type\":\"CategoricalAxis\"},{\"attributes\":{\"format\":\"$0,0\"},\"id\":\"22266\",\"type\":\"NumeralTickFormatter\"},{\"attributes\":{},\"id\":\"22658\",\"type\":\"CategoricalTickFormatter\"},{\"attributes\":{},\"id\":\"22245\",\"type\":\"CategoricalTicker\"},{\"attributes\":{},\"id\":\"22251\",\"type\":\"SaveTool\"},{\"attributes\":{},\"id\":\"22249\",\"type\":\"WheelZoomTool\"},{\"attributes\":{},\"id\":\"22253\",\"type\":\"HelpTool\"},{\"attributes\":{\"callback\":null},\"id\":\"22231\",\"type\":\"DataRange1d\"},{\"attributes\":{\"formatter\":{\"id\":\"22266\",\"type\":\"NumeralTickFormatter\"},\"ticker\":{\"id\":\"22267\",\"type\":\"FixedTicker\"}},\"id\":\"22239\",\"type\":\"LinearAxis\"}],\"root_ids\":[\"22228\"]},\"title\":\"Bokeh Application\",\"version\":\"1.4.0\"}};\n",
       "  var render_items = [{\"docid\":\"09c7d564-fe44-47c8-8225-827788697449\",\"roots\":{\"22228\":\"b4d2c7e9-300f-4f04-a679-6ec54eb83691\"}}];\n",
       "  root.Bokeh.embed.embed_items_notebook(docs_json, render_items);\n",
       "\n",
       "  }\n",
       "  if (root.Bokeh !== undefined) {\n",
       "    embed_document(root);\n",
       "  } else {\n",
       "    var attempts = 0;\n",
       "    var timer = setInterval(function(root) {\n",
       "      if (root.Bokeh !== undefined) {\n",
       "        clearInterval(timer);\n",
       "        embed_document(root);\n",
       "      } else {\n",
       "        attempts++;\n",
       "        if (attempts > 100) {\n",
       "          clearInterval(timer);\n",
       "          console.log(\"Bokeh: ERROR: Unable to run BokehJS code because BokehJS library is missing\");\n",
       "        }\n",
       "      }\n",
       "    }, 10, root)\n",
       "  }\n",
       "})(window);"
      ],
      "application/vnd.bokehjs_exec.v0+json": ""
     },
     "metadata": {
      "application/vnd.bokehjs_exec.v0+json": {
       "id": "22228"
      }
     },
     "output_type": "display_data"
    }
   ],
   "source": [
    "org_names = org_source.data['contributorNameOrganization'].tolist() \n",
    "\n",
    "org_chart = figure(y_range=org_names, plot_width=500, plot_height=400, toolbar_location=None, title='Top Organizational Contributors')\n",
    "org_chart.hbar(\n",
    "    source=org_source,\n",
    "    y='contributorNameOrganization',\n",
    "    height=0.25, \n",
    "    left=0, \n",
    "    right='contributionAmount',\n",
    "    color='cornflowerblue',    \n",
    ")\n",
    "\n",
    "num_formatter = NumeralTickFormatter(format='$0,0')\n",
    "\n",
    "TOOLTIPS = '@contributorNameOrganization'\n",
    "\n",
    "org_chart.yaxis.visible = False\n",
    "\n",
    "# org_chart.yaxis.fixed_location = -1000\n",
    "org_chart.xaxis.ticker = [5000, 10000, 15000, 20000]\n",
    "\n",
    "org_chart.xaxis.formatter = num_formatter\n",
    "\n",
    "org_chart.add_tools(HoverTool(tooltips=TOOLTIPS, mode='hline'))\n",
    "# org_chart.yaxis.major_label_orientation=.1\n",
    "show(org_chart)\n",
    "\n",
    "# org_chart = org_contribs_grouped.head(10).contributionAmount.plot.barh()\n",
    "# org_chart.set_yticklabels(org_contribs_grouped.contributorNameOrganization)\n",
    "# org_chart.set_title('Charles Perry: Highest Contributing Organizations')"
   ]
  },
  {
   "cell_type": "code",
   "execution_count": null,
   "metadata": {},
   "outputs": [],
   "source": [
    "individual_contribs_grouped['name'] = individual_contribs_grouped['contributorNameFirst'].str.cat(individual_contribs_grouped['contributorNameLast'], sep=' ')"
   ]
  },
  {
   "cell_type": "code",
   "execution_count": null,
   "metadata": {},
   "outputs": [],
   "source": [
    "org_contribs_grouped['name'] = org_contribs_grouped['contributorNameOrganization']"
   ]
  },
  {
   "cell_type": "code",
   "execution_count": null,
   "metadata": {},
   "outputs": [],
   "source": [
    "all_contribs = [individual_contribs_grouped.head(10), org_contribs_grouped.head(10)]"
   ]
  },
  {
   "cell_type": "code",
   "execution_count": null,
   "metadata": {},
   "outputs": [],
   "source": [
    "all_grouped = pd.concat(all_contribs, sort=False).sort_values('contributionAmount', ascending=False)"
   ]
  },
  {
   "cell_type": "code",
   "execution_count": null,
   "metadata": {},
   "outputs": [],
   "source": [
    "all_grouped"
   ]
  },
  {
   "cell_type": "code",
   "execution_count": null,
   "metadata": {},
   "outputs": [],
   "source": [
    "all_chart = all_grouped.head(10).contributionAmount.plot.barh()\n",
    "all_chart.set_yticklabels(all_grouped.name + ': $' + all_grouped.contributionAmount.astype(int).astype(str))\n",
    "all_chart.set_title('Charles Perry: Top 10 Contributors')"
   ]
  },
  {
   "cell_type": "code",
   "execution_count": null,
   "metadata": {},
   "outputs": [],
   "source": [
    "all_chart.figure.savefig('perry_all.png', bbox_inches='tight', pad_inches=0.5)"
   ]
  },
  {
   "cell_type": "code",
   "execution_count": null,
   "metadata": {},
   "outputs": [],
   "source": [
    "individual_totals = individual_contribs_grouped.contributionAmount.sum()"
   ]
  },
  {
   "cell_type": "code",
   "execution_count": null,
   "metadata": {},
   "outputs": [],
   "source": [
    "org_totals = org_contribs_grouped.contributionAmount.sum()"
   ]
  },
  {
   "cell_type": "code",
   "execution_count": null,
   "metadata": {},
   "outputs": [],
   "source": [
    "comparison_totals = (individual_totals, org_totals)"
   ]
  },
  {
   "cell_type": "code",
   "execution_count": null,
   "metadata": {},
   "outputs": [],
   "source": [
    "pl.rcdefaults()"
   ]
  },
  {
   "cell_type": "code",
   "execution_count": null,
   "metadata": {},
   "outputs": [],
   "source": [
    "fig, ax = pl.subplots()\n",
    "\n",
    "groups = ('Individual Donors', 'Organizational Donors')\n",
    "\n",
    "y_pos = (1, 2)\n",
    "\n",
    "totals = comparison_totals\n",
    "\n",
    "ax.bar(y_pos, totals, align='center', width=0.75, color='#4f839c')\n",
    "\n",
    "ax.set_xticks(y_pos)\n",
    "\n",
    "ax.set_xticklabels(groups)\n",
    "\n",
    "ax.set_yticklabels(['$0', '$100,000', '$200,000', '$300,000', '$400,000', '$500,000'])\n",
    "\n",
    "ax.invert_xaxis()\n",
    "\n",
    "ax.set_ylabel('Total Contributions')\n",
    "\n",
    "ax.set_title('Individual Donations vs Organizational Donations')"
   ]
  },
  {
   "cell_type": "code",
   "execution_count": null,
   "metadata": {},
   "outputs": [],
   "source": [
    "df = pd.DataFrame([comparison_totals], columns=['Individuals', 'Organizations'])"
   ]
  },
  {
   "cell_type": "code",
   "execution_count": null,
   "metadata": {},
   "outputs": [],
   "source": [
    "y_pos = [0, 1]\n",
    "chart_fig = pl.figure(figsize=(20, 3))\n",
    "comparison_bar = df.plot.barh(fig=chart_fig, align='edge', width=0.3)\n",
    "comparison_bar.invert_yaxis()\n",
    "comparison_bar.set_xticklabels(['$0', '$100,000', '$200,000', '$300,000', '$400,000', '$500,000'])\n",
    "comparison_bar.tick_params(\n",
    "    axis='y',\n",
    "    which='both',\n",
    "    left=False,\n",
    "    right=False,\n",
    "    labelleft=False\n",
    ")\n",
    "comparison_bar.patch.set_visible(False)"
   ]
  },
  {
   "cell_type": "code",
   "execution_count": null,
   "metadata": {},
   "outputs": [],
   "source": [
    "comparison_bar\n",
    "pl.show(chart_fig)"
   ]
  }
 ],
 "metadata": {
  "kernelspec": {
   "display_name": "Python 3",
   "language": "python",
   "name": "python3"
  },
  "language_info": {
   "codemirror_mode": {
    "name": "ipython",
    "version": 3
   },
   "file_extension": ".py",
   "mimetype": "text/x-python",
   "name": "python",
   "nbconvert_exporter": "python",
   "pygments_lexer": "ipython3",
   "version": "3.6.1"
  }
 },
 "nbformat": 4,
 "nbformat_minor": 4
}

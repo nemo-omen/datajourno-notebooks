{
 "cells": [
  {
   "cell_type": "markdown",
   "metadata": {},
   "source": [
    "## Texas 2020\n",
    "\n",
    "I'm going to try to wrestle with some of the data provided by the Texas Ethics Commission.\n",
    "\n",
    "So far, what I've found is that they provide multipls CSV files dating back to 2000. Unfortunately, they provide *all* of the filings dating back to 2000. When I downloaded them I received 40 files named contrib_* ... each of them with almost 500,000 rows of data.\n",
    "\n",
    "The other problem, is that these 'contrib' files don't have a one-to-one mapping of contributions to candidates, so I have to find in the data candidate ID (or something similar) is mapped to a candidate's name or campaign.\n",
    "\n",
    "Instructions for deciphering the data are located in the TEC-README file, which is a copy of the readme provided by the TEC."
   ]
  },
  {
   "cell_type": "markdown",
   "metadata": {},
   "source": [
    "It looks like _cover.csv_ might be the place where I can map a filer's name to the `filerIdent` field. "
   ]
  },
  {
   "cell_type": "markdown",
   "metadata": {},
   "source": [
    "Also, check _filers.csv_ "
   ]
  },
  {
   "cell_type": "code",
   "execution_count": 1,
   "metadata": {},
   "outputs": [],
   "source": [
    "import pandas as pd\n",
    "\n",
    "import matplotlib.pyplot as pl, mpld3\n",
    "\n",
    "from matplotlib.pyplot import figure\n",
    "\n",
    "#mpld3.enable_notebook(local=False)"
   ]
  },
  {
   "cell_type": "code",
   "execution_count": 2,
   "metadata": {},
   "outputs": [],
   "source": [
    "c_35 = pd.read_csv('tx-ethics-filings/TEC_CF_CSV/contribs_35.csv', usecols = ['receivedDt', 'filerIdent', 'filerName', 'contributionDt', 'contributionAmount', 'contributorNameFirst', 'contributorNameLast', 'contributorNameOrganization'], low_memory=False)"
   ]
  },
  {
   "cell_type": "code",
   "execution_count": 3,
   "metadata": {},
   "outputs": [
    {
     "data": {
      "text/html": [
       "<div>\n",
       "<style scoped>\n",
       "    .dataframe tbody tr th:only-of-type {\n",
       "        vertical-align: middle;\n",
       "    }\n",
       "\n",
       "    .dataframe tbody tr th {\n",
       "        vertical-align: top;\n",
       "    }\n",
       "\n",
       "    .dataframe thead th {\n",
       "        text-align: right;\n",
       "    }\n",
       "</style>\n",
       "<table border=\"1\" class=\"dataframe\">\n",
       "  <thead>\n",
       "    <tr style=\"text-align: right;\">\n",
       "      <th></th>\n",
       "      <th>receivedDt</th>\n",
       "      <th>filerIdent</th>\n",
       "      <th>filerName</th>\n",
       "      <th>contributionDt</th>\n",
       "      <th>contributionAmount</th>\n",
       "      <th>contributorNameOrganization</th>\n",
       "      <th>contributorNameLast</th>\n",
       "      <th>contributorNameFirst</th>\n",
       "    </tr>\n",
       "  </thead>\n",
       "  <tbody>\n",
       "    <tr>\n",
       "      <th>0</th>\n",
       "      <td>20180502</td>\n",
       "      <td>16847</td>\n",
       "      <td>United Services Automobile Association Employe...</td>\n",
       "      <td>20180419</td>\n",
       "      <td>10.00</td>\n",
       "      <td>NaN</td>\n",
       "      <td>Clark</td>\n",
       "      <td>Michael</td>\n",
       "    </tr>\n",
       "    <tr>\n",
       "      <th>1</th>\n",
       "      <td>20180502</td>\n",
       "      <td>16847</td>\n",
       "      <td>United Services Automobile Association Employe...</td>\n",
       "      <td>20180405</td>\n",
       "      <td>6.00</td>\n",
       "      <td>NaN</td>\n",
       "      <td>Clark</td>\n",
       "      <td>Steve</td>\n",
       "    </tr>\n",
       "    <tr>\n",
       "      <th>2</th>\n",
       "      <td>20180502</td>\n",
       "      <td>16847</td>\n",
       "      <td>United Services Automobile Association Employe...</td>\n",
       "      <td>20180419</td>\n",
       "      <td>6.00</td>\n",
       "      <td>NaN</td>\n",
       "      <td>Clark</td>\n",
       "      <td>Steve</td>\n",
       "    </tr>\n",
       "    <tr>\n",
       "      <th>3</th>\n",
       "      <td>20180502</td>\n",
       "      <td>16847</td>\n",
       "      <td>United Services Automobile Association Employe...</td>\n",
       "      <td>20180405</td>\n",
       "      <td>33.51</td>\n",
       "      <td>NaN</td>\n",
       "      <td>Clark</td>\n",
       "      <td>Taylor</td>\n",
       "    </tr>\n",
       "    <tr>\n",
       "      <th>4</th>\n",
       "      <td>20180502</td>\n",
       "      <td>16847</td>\n",
       "      <td>United Services Automobile Association Employe...</td>\n",
       "      <td>20180419</td>\n",
       "      <td>33.51</td>\n",
       "      <td>NaN</td>\n",
       "      <td>Clark</td>\n",
       "      <td>Taylor</td>\n",
       "    </tr>\n",
       "    <tr>\n",
       "      <th>...</th>\n",
       "      <td>...</td>\n",
       "      <td>...</td>\n",
       "      <td>...</td>\n",
       "      <td>...</td>\n",
       "      <td>...</td>\n",
       "      <td>...</td>\n",
       "      <td>...</td>\n",
       "      <td>...</td>\n",
       "    </tr>\n",
       "    <tr>\n",
       "      <th>397289</th>\n",
       "      <td>20180726</td>\n",
       "      <td>16249</td>\n",
       "      <td>Texas Bankers Assn. Bankers PAC</td>\n",
       "      <td>20180725</td>\n",
       "      <td>10.00</td>\n",
       "      <td>NaN</td>\n",
       "      <td>Holman</td>\n",
       "      <td>Kristi</td>\n",
       "    </tr>\n",
       "    <tr>\n",
       "      <th>397290</th>\n",
       "      <td>20180726</td>\n",
       "      <td>16249</td>\n",
       "      <td>Texas Bankers Assn. Bankers PAC</td>\n",
       "      <td>20180725</td>\n",
       "      <td>10.00</td>\n",
       "      <td>NaN</td>\n",
       "      <td>Leyva Varela</td>\n",
       "      <td>Rosario</td>\n",
       "    </tr>\n",
       "    <tr>\n",
       "      <th>397291</th>\n",
       "      <td>20180726</td>\n",
       "      <td>16249</td>\n",
       "      <td>Texas Bankers Assn. Bankers PAC</td>\n",
       "      <td>20180725</td>\n",
       "      <td>20.00</td>\n",
       "      <td>NaN</td>\n",
       "      <td>Moreno</td>\n",
       "      <td>Christina</td>\n",
       "    </tr>\n",
       "    <tr>\n",
       "      <th>397292</th>\n",
       "      <td>20180726</td>\n",
       "      <td>16249</td>\n",
       "      <td>Texas Bankers Assn. Bankers PAC</td>\n",
       "      <td>20180720</td>\n",
       "      <td>100.00</td>\n",
       "      <td>Texas Bankers Association (money contribution ...</td>\n",
       "      <td>NaN</td>\n",
       "      <td>NaN</td>\n",
       "    </tr>\n",
       "    <tr>\n",
       "      <th>397293</th>\n",
       "      <td>20180726</td>\n",
       "      <td>16249</td>\n",
       "      <td>Texas Bankers Assn. Bankers PAC</td>\n",
       "      <td>20180630</td>\n",
       "      <td>1835.97</td>\n",
       "      <td>Texas Bankers Association (inkind salaries for...</td>\n",
       "      <td>NaN</td>\n",
       "      <td>NaN</td>\n",
       "    </tr>\n",
       "  </tbody>\n",
       "</table>\n",
       "<p>397294 rows × 8 columns</p>\n",
       "</div>"
      ],
      "text/plain": [
       "        receivedDt  filerIdent  \\\n",
       "0         20180502       16847   \n",
       "1         20180502       16847   \n",
       "2         20180502       16847   \n",
       "3         20180502       16847   \n",
       "4         20180502       16847   \n",
       "...            ...         ...   \n",
       "397289    20180726       16249   \n",
       "397290    20180726       16249   \n",
       "397291    20180726       16249   \n",
       "397292    20180726       16249   \n",
       "397293    20180726       16249   \n",
       "\n",
       "                                                filerName  contributionDt  \\\n",
       "0       United Services Automobile Association Employe...        20180419   \n",
       "1       United Services Automobile Association Employe...        20180405   \n",
       "2       United Services Automobile Association Employe...        20180419   \n",
       "3       United Services Automobile Association Employe...        20180405   \n",
       "4       United Services Automobile Association Employe...        20180419   \n",
       "...                                                   ...             ...   \n",
       "397289                    Texas Bankers Assn. Bankers PAC        20180725   \n",
       "397290                    Texas Bankers Assn. Bankers PAC        20180725   \n",
       "397291                    Texas Bankers Assn. Bankers PAC        20180725   \n",
       "397292                    Texas Bankers Assn. Bankers PAC        20180720   \n",
       "397293                    Texas Bankers Assn. Bankers PAC        20180630   \n",
       "\n",
       "        contributionAmount                        contributorNameOrganization  \\\n",
       "0                    10.00                                                NaN   \n",
       "1                     6.00                                                NaN   \n",
       "2                     6.00                                                NaN   \n",
       "3                    33.51                                                NaN   \n",
       "4                    33.51                                                NaN   \n",
       "...                    ...                                                ...   \n",
       "397289               10.00                                                NaN   \n",
       "397290               10.00                                                NaN   \n",
       "397291               20.00                                                NaN   \n",
       "397292              100.00  Texas Bankers Association (money contribution ...   \n",
       "397293             1835.97  Texas Bankers Association (inkind salaries for...   \n",
       "\n",
       "       contributorNameLast contributorNameFirst  \n",
       "0                    Clark              Michael  \n",
       "1                    Clark                Steve  \n",
       "2                    Clark                Steve  \n",
       "3                    Clark               Taylor  \n",
       "4                    Clark               Taylor  \n",
       "...                    ...                  ...  \n",
       "397289              Holman               Kristi  \n",
       "397290        Leyva Varela              Rosario  \n",
       "397291              Moreno            Christina  \n",
       "397292                 NaN                  NaN  \n",
       "397293                 NaN                  NaN  \n",
       "\n",
       "[397294 rows x 8 columns]"
      ]
     },
     "execution_count": 3,
     "metadata": {},
     "output_type": "execute_result"
    }
   ],
   "source": [
    "c_35"
   ]
  },
  {
   "cell_type": "code",
   "execution_count": 4,
   "metadata": {},
   "outputs": [],
   "source": [
    "c_35 = c_35[c_35.receivedDt >= 20181231.0]"
   ]
  },
  {
   "cell_type": "code",
   "execution_count": 5,
   "metadata": {},
   "outputs": [],
   "source": [
    "c_36 = pd.read_csv('tx-ethics-filings/TEC_CF_CSV/contribs_36.csv', usecols = ['receivedDt', 'filerIdent', 'filerName', 'contributionDt', 'contributionAmount', 'contributorNameFirst', 'contributorNameLast', 'contributorNameOrganization'], low_memory=False)"
   ]
  },
  {
   "cell_type": "code",
   "execution_count": 6,
   "metadata": {},
   "outputs": [],
   "source": [
    "c_37 = pd.read_csv('tx-ethics-filings/TEC_CF_CSV/contribs_37.csv', usecols = ['receivedDt', 'filerIdent', 'filerName', 'contributionDt', 'contributionAmount', 'contributorNameFirst', 'contributorNameLast', 'contributorNameOrganization'], low_memory=False)"
   ]
  },
  {
   "cell_type": "code",
   "execution_count": 7,
   "metadata": {},
   "outputs": [],
   "source": [
    "darby_c_37 = c_37[c_37.filerIdent == 51651]"
   ]
  },
  {
   "cell_type": "code",
   "execution_count": 8,
   "metadata": {},
   "outputs": [],
   "source": [
    "c_38 = pd.read_csv('tx-ethics-filings/TEC_CF_CSV/contribs_38.csv', usecols = ['receivedDt', 'filerIdent', 'filerName', 'contributionDt', 'contributionAmount', 'contributorNameFirst', 'contributorNameLast', 'contributorNameOrganization'], low_memory=False)"
   ]
  },
  {
   "cell_type": "code",
   "execution_count": 9,
   "metadata": {},
   "outputs": [],
   "source": [
    "darby_c_38 = c_38[c_38.filerIdent == 51651]"
   ]
  },
  {
   "cell_type": "code",
   "execution_count": 10,
   "metadata": {},
   "outputs": [],
   "source": [
    "c_39 = pd.read_csv('tx-ethics-filings/TEC_CF_CSV/contribs_39.csv', usecols = ['receivedDt', 'filerIdent', 'filerName', 'contributionDt', 'contributionAmount', 'contributorNameFirst', 'contributorNameLast', 'contributorNameOrganization'], low_memory=False)"
   ]
  },
  {
   "cell_type": "code",
   "execution_count": 11,
   "metadata": {},
   "outputs": [],
   "source": [
    "darby_c_39 = c_39[c_39.filerIdent == 51651]"
   ]
  },
  {
   "cell_type": "code",
   "execution_count": 12,
   "metadata": {},
   "outputs": [],
   "source": [
    "c_40 = pd.read_csv('tx-ethics-filings/TEC_CF_CSV/contribs_40.csv', usecols = ['receivedDt', 'filerIdent', 'filerName', 'contributionDt', 'contributionAmount', 'contributorNameFirst', 'contributorNameLast', 'contributorNameOrganization'], low_memory=False)"
   ]
  },
  {
   "cell_type": "code",
   "execution_count": 13,
   "metadata": {},
   "outputs": [],
   "source": [
    "darby_c_40 = c_40[c_40.filerIdent == 51651]"
   ]
  },
  {
   "cell_type": "code",
   "execution_count": 14,
   "metadata": {},
   "outputs": [],
   "source": [
    "darby_contribs = darby_c_37.append([darby_c_38, darby_c_39, darby_c_40], sort=False).sort_values(by=['contributionAmount', 'contributorNameOrganization'], ascending=True).to_csv('local-contribs/darby.csv')"
   ]
  },
  {
   "cell_type": "code",
   "execution_count": 15,
   "metadata": {},
   "outputs": [],
   "source": [
    "perry_c_36 = c_36[c_36.filerIdent == 66066]"
   ]
  },
  {
   "cell_type": "code",
   "execution_count": 16,
   "metadata": {},
   "outputs": [],
   "source": [
    "perry_c_37 = c_37[c_37.filerIdent == 66066]"
   ]
  },
  {
   "cell_type": "code",
   "execution_count": 17,
   "metadata": {},
   "outputs": [],
   "source": [
    "perry_c_38 = c_38[c_38.filerIdent == 66066]\n",
    "perry_c_39 = c_39[c_39.filerIdent == 66066]\n",
    "perry_c_40 = c_40[c_40.filerIdent == 66066]"
   ]
  },
  {
   "cell_type": "code",
   "execution_count": 18,
   "metadata": {},
   "outputs": [],
   "source": [
    "perry_contribs = perry_c_36.append([perry_c_37, perry_c_38, perry_c_39, perry_c_40], sort=False).sort_values(by=['contributionAmount', 'contributorNameOrganization'], ascending=True)"
   ]
  },
  {
   "cell_type": "code",
   "execution_count": 19,
   "metadata": {},
   "outputs": [],
   "source": [
    "perry_csv = perry_contribs.to_csv('local-contribs/perry.csv')"
   ]
  },
  {
   "cell_type": "code",
   "execution_count": 20,
   "metadata": {},
   "outputs": [
    {
     "name": "stdout",
     "output_type": "stream",
     "text": [
      "<class 'pandas.core.frame.DataFrame'>\n",
      "Int64Index: 630 entries, 258398 to 117409\n",
      "Data columns (total 8 columns):\n",
      "receivedDt                     630 non-null int64\n",
      "filerIdent                     630 non-null int64\n",
      "filerName                      630 non-null object\n",
      "contributionDt                 630 non-null int64\n",
      "contributionAmount             630 non-null float64\n",
      "contributorNameOrganization    303 non-null object\n",
      "contributorNameLast            327 non-null object\n",
      "contributorNameFirst           327 non-null object\n",
      "dtypes: float64(1), int64(3), object(4)\n",
      "memory usage: 34.5+ KB\n"
     ]
    }
   ],
   "source": [
    "perry_contribs.info()"
   ]
  },
  {
   "cell_type": "code",
   "execution_count": 21,
   "metadata": {},
   "outputs": [],
   "source": [
    "perry_totals = perry_contribs.contributionAmount.sum()"
   ]
  },
  {
   "cell_type": "code",
   "execution_count": 22,
   "metadata": {},
   "outputs": [
    {
     "data": {
      "text/plain": [
       "714965.85"
      ]
     },
     "execution_count": 22,
     "metadata": {},
     "output_type": "execute_result"
    }
   ],
   "source": [
    "perry_totals"
   ]
  },
  {
   "cell_type": "code",
   "execution_count": 23,
   "metadata": {},
   "outputs": [],
   "source": [
    "individual_contribs_grouped = perry_contribs.groupby([\"contributorNameFirst\", \"contributorNameLast\"]).contributionAmount.sum().reset_index().sort_values(\"contributionAmount\", ascending=False)"
   ]
  },
  {
   "cell_type": "code",
   "execution_count": 24,
   "metadata": {},
   "outputs": [],
   "source": [
    "org_contribs_grouped = perry_contribs.groupby(\"contributorNameOrganization\").contributionAmount.sum().reset_index().sort_values(\"contributionAmount\", ascending=False)"
   ]
  },
  {
   "cell_type": "code",
   "execution_count": 25,
   "metadata": {},
   "outputs": [],
   "source": [
    "individual_contribs_grouped.to_csv('local-contribs/perry-grouped-individual.csv')"
   ]
  },
  {
   "cell_type": "code",
   "execution_count": 26,
   "metadata": {},
   "outputs": [],
   "source": [
    "org_contribs_grouped.to_csv('local-contribs/perry-grouped-orgs.csv')"
   ]
  },
  {
   "cell_type": "code",
   "execution_count": 27,
   "metadata": {},
   "outputs": [],
   "source": [
    "%matplotlib inline"
   ]
  },
  {
   "cell_type": "code",
   "execution_count": 28,
   "metadata": {},
   "outputs": [
    {
     "data": {
      "text/plain": [
       "Text(0.5, 1.0, 'Charles Perry: Highest Contributing Organizations')"
      ]
     },
     "execution_count": 28,
     "metadata": {},
     "output_type": "execute_result"
    },
    {
     "data": {
      "image/png": "[encoded data removed]",
      "text/plain": [
       "<Figure size 432x288 with 1 Axes>"
      ]
     },
     "metadata": {
      "needs_background": "light"
     },
     "output_type": "display_data"
    }
   ],
   "source": [
    "org_chart = org_contribs_grouped.head(10).contributionAmount.plot.barh()\n",
    "org_chart.set_yticklabels(org_contribs_grouped.contributorNameOrganization)\n",
    "org_chart.set_title('Charles Perry: Highest Contributing Organizations')"
   ]
  },
  {
   "cell_type": "code",
   "execution_count": 29,
   "metadata": {},
   "outputs": [
    {
     "data": {
      "text/plain": [
       "Text(0.5, 1.0, 'Charles Perry: Highest Contributing Individuals')"
      ]
     },
     "execution_count": 29,
     "metadata": {},
     "output_type": "execute_result"
    },
    {
     "data": {
      "image/png": "[encoded data removed]",
      "text/plain": [
       "<Figure size 432x288 with 1 Axes>"
      ]
     },
     "metadata": {
      "needs_background": "light"
     },
     "output_type": "display_data"
    }
   ],
   "source": [
    "individual_chart = individual_contribs_grouped.head(10).contributionAmount.plot.barh()\n",
    "individual_chart.set_yticklabels(individual_contribs_grouped.contributorNameFirst + ' ' + individual_contribs_grouped.contributorNameLast)\n",
    "individual_chart.set_title('Charles Perry: Highest Contributing Individuals')"
   ]
  },
  {
   "cell_type": "code",
   "execution_count": 30,
   "metadata": {},
   "outputs": [],
   "source": [
    "individual_contribs_grouped['name'] = individual_contribs_grouped['contributorNameFirst'].str.cat(individual_contribs_grouped['contributorNameLast'], sep=' ')"
   ]
  },
  {
   "cell_type": "code",
   "execution_count": 31,
   "metadata": {},
   "outputs": [],
   "source": [
    "org_contribs_grouped['name'] = org_contribs_grouped['contributorNameOrganization']"
   ]
  },
  {
   "cell_type": "code",
   "execution_count": 32,
   "metadata": {},
   "outputs": [],
   "source": [
    "all_contribs = [individual_contribs_grouped.head(10), org_contribs_grouped.head(10)]"
   ]
  },
  {
   "cell_type": "code",
   "execution_count": 33,
   "metadata": {},
   "outputs": [],
   "source": [
    "all_grouped = pd.concat(all_contribs, sort=False).sort_values('contributionAmount', ascending=False)"
   ]
  },
  {
   "cell_type": "code",
   "execution_count": 34,
   "metadata": {},
   "outputs": [
    {
     "data": {
      "text/html": [
       "<div>\n",
       "<style scoped>\n",
       "    .dataframe tbody tr th:only-of-type {\n",
       "        vertical-align: middle;\n",
       "    }\n",
       "\n",
       "    .dataframe tbody tr th {\n",
       "        vertical-align: top;\n",
       "    }\n",
       "\n",
       "    .dataframe thead th {\n",
       "        text-align: right;\n",
       "    }\n",
       "</style>\n",
       "<table border=\"1\" class=\"dataframe\">\n",
       "  <thead>\n",
       "    <tr style=\"text-align: right;\">\n",
       "      <th></th>\n",
       "      <th>contributorNameFirst</th>\n",
       "      <th>contributorNameLast</th>\n",
       "      <th>contributionAmount</th>\n",
       "      <th>name</th>\n",
       "      <th>contributorNameOrganization</th>\n",
       "    </tr>\n",
       "  </thead>\n",
       "  <tbody>\n",
       "    <tr>\n",
       "      <th>115</th>\n",
       "      <td>NaN</td>\n",
       "      <td>NaN</td>\n",
       "      <td>22500.0</td>\n",
       "      <td>Texas Association of Realtors PAC</td>\n",
       "      <td>Texas Association of Realtors PAC</td>\n",
       "    </tr>\n",
       "    <tr>\n",
       "      <th>14</th>\n",
       "      <td>NaN</td>\n",
       "      <td>NaN</td>\n",
       "      <td>20000.0</td>\n",
       "      <td>At&amp;t Texas PAC</td>\n",
       "      <td>At&amp;t Texas PAC</td>\n",
       "    </tr>\n",
       "    <tr>\n",
       "      <th>99</th>\n",
       "      <td>NaN</td>\n",
       "      <td>NaN</td>\n",
       "      <td>20000.0</td>\n",
       "      <td>THCAPAC</td>\n",
       "      <td>THCAPAC</td>\n",
       "    </tr>\n",
       "    <tr>\n",
       "      <th>125</th>\n",
       "      <td>NaN</td>\n",
       "      <td>NaN</td>\n",
       "      <td>20000.0</td>\n",
       "      <td>Texas Land Developers Association PAC</td>\n",
       "      <td>Texas Land Developers Association PAC</td>\n",
       "    </tr>\n",
       "    <tr>\n",
       "      <th>118</th>\n",
       "      <td>Richard</td>\n",
       "      <td>Weekley</td>\n",
       "      <td>17500.0</td>\n",
       "      <td>Richard Weekley</td>\n",
       "      <td>NaN</td>\n",
       "    </tr>\n",
       "    <tr>\n",
       "      <th>24</th>\n",
       "      <td>NaN</td>\n",
       "      <td>NaN</td>\n",
       "      <td>15000.0</td>\n",
       "      <td>Charter Communications Inc PAC</td>\n",
       "      <td>Charter Communications Inc PAC</td>\n",
       "    </tr>\n",
       "    <tr>\n",
       "      <th>28</th>\n",
       "      <td>NaN</td>\n",
       "      <td>NaN</td>\n",
       "      <td>11000.0</td>\n",
       "      <td>Delisi Communications PAC</td>\n",
       "      <td>Delisi Communications PAC</td>\n",
       "    </tr>\n",
       "    <tr>\n",
       "      <th>145</th>\n",
       "      <td>Tammy</td>\n",
       "      <td>Sequeira</td>\n",
       "      <td>10000.0</td>\n",
       "      <td>Tammy Sequeira</td>\n",
       "      <td>NaN</td>\n",
       "    </tr>\n",
       "    <tr>\n",
       "      <th>56</th>\n",
       "      <td>JR</td>\n",
       "      <td>Brooks</td>\n",
       "      <td>10000.0</td>\n",
       "      <td>JR Brooks</td>\n",
       "      <td>NaN</td>\n",
       "    </tr>\n",
       "    <tr>\n",
       "      <th>20</th>\n",
       "      <td>Charles</td>\n",
       "      <td>Butt</td>\n",
       "      <td>10000.0</td>\n",
       "      <td>Charles Butt</td>\n",
       "      <td>NaN</td>\n",
       "    </tr>\n",
       "    <tr>\n",
       "      <th>126</th>\n",
       "      <td>NaN</td>\n",
       "      <td>NaN</td>\n",
       "      <td>10000.0</td>\n",
       "      <td>Texas Land Title Association PAC</td>\n",
       "      <td>Texas Land Title Association PAC</td>\n",
       "    </tr>\n",
       "    <tr>\n",
       "      <th>110</th>\n",
       "      <td>NaN</td>\n",
       "      <td>NaN</td>\n",
       "      <td>10000.0</td>\n",
       "      <td>Texas Aggregates &amp; Concrete Ass. PAC</td>\n",
       "      <td>Texas Aggregates &amp; Concrete Ass. PAC</td>\n",
       "    </tr>\n",
       "    <tr>\n",
       "      <th>129</th>\n",
       "      <td>NaN</td>\n",
       "      <td>NaN</td>\n",
       "      <td>10000.0</td>\n",
       "      <td>Texas Oil &amp; Gas Association Good Goverment Com...</td>\n",
       "      <td>Texas Oil &amp; Gas Association Good Goverment Com...</td>\n",
       "    </tr>\n",
       "    <tr>\n",
       "      <th>102</th>\n",
       "      <td>NaN</td>\n",
       "      <td>NaN</td>\n",
       "      <td>8000.0</td>\n",
       "      <td>TSCPA PAC</td>\n",
       "      <td>TSCPA PAC</td>\n",
       "    </tr>\n",
       "    <tr>\n",
       "      <th>146</th>\n",
       "      <td>Terry</td>\n",
       "      <td>Crofoot</td>\n",
       "      <td>5000.0</td>\n",
       "      <td>Terry Crofoot</td>\n",
       "      <td>NaN</td>\n",
       "    </tr>\n",
       "    <tr>\n",
       "      <th>22</th>\n",
       "      <td>Christopher</td>\n",
       "      <td>Huckabee</td>\n",
       "      <td>5000.0</td>\n",
       "      <td>Christopher  Huckabee</td>\n",
       "      <td>NaN</td>\n",
       "    </tr>\n",
       "    <tr>\n",
       "      <th>51</th>\n",
       "      <td>George</td>\n",
       "      <td>McMahan</td>\n",
       "      <td>5000.0</td>\n",
       "      <td>George McMahan</td>\n",
       "      <td>NaN</td>\n",
       "    </tr>\n",
       "    <tr>\n",
       "      <th>148</th>\n",
       "      <td>Tilman</td>\n",
       "      <td>Fertitta</td>\n",
       "      <td>5000.0</td>\n",
       "      <td>Tilman Fertitta</td>\n",
       "      <td>NaN</td>\n",
       "    </tr>\n",
       "    <tr>\n",
       "      <th>7</th>\n",
       "      <td>Alvin</td>\n",
       "      <td>New</td>\n",
       "      <td>5000.0</td>\n",
       "      <td>Alvin New</td>\n",
       "      <td>NaN</td>\n",
       "    </tr>\n",
       "    <tr>\n",
       "      <th>140</th>\n",
       "      <td>Steven</td>\n",
       "      <td>Hill</td>\n",
       "      <td>5000.0</td>\n",
       "      <td>Steven Hill</td>\n",
       "      <td>NaN</td>\n",
       "    </tr>\n",
       "  </tbody>\n",
       "</table>\n",
       "</div>"
      ],
      "text/plain": [
       "    contributorNameFirst contributorNameLast  contributionAmount  \\\n",
       "115                  NaN                 NaN             22500.0   \n",
       "14                   NaN                 NaN             20000.0   \n",
       "99                   NaN                 NaN             20000.0   \n",
       "125                  NaN                 NaN             20000.0   \n",
       "118              Richard             Weekley             17500.0   \n",
       "24                   NaN                 NaN             15000.0   \n",
       "28                   NaN                 NaN             11000.0   \n",
       "145                Tammy            Sequeira             10000.0   \n",
       "56                    JR              Brooks             10000.0   \n",
       "20               Charles                Butt             10000.0   \n",
       "126                  NaN                 NaN             10000.0   \n",
       "110                  NaN                 NaN             10000.0   \n",
       "129                  NaN                 NaN             10000.0   \n",
       "102                  NaN                 NaN              8000.0   \n",
       "146                Terry             Crofoot              5000.0   \n",
       "22           Christopher            Huckabee              5000.0   \n",
       "51                George             McMahan              5000.0   \n",
       "148               Tilman            Fertitta              5000.0   \n",
       "7                  Alvin                 New              5000.0   \n",
       "140               Steven                Hill              5000.0   \n",
       "\n",
       "                                                  name  \\\n",
       "115                  Texas Association of Realtors PAC   \n",
       "14                                      At&t Texas PAC   \n",
       "99                                             THCAPAC   \n",
       "125              Texas Land Developers Association PAC   \n",
       "118                                    Richard Weekley   \n",
       "24                      Charter Communications Inc PAC   \n",
       "28                           Delisi Communications PAC   \n",
       "145                                     Tammy Sequeira   \n",
       "56                                           JR Brooks   \n",
       "20                                        Charles Butt   \n",
       "126                   Texas Land Title Association PAC   \n",
       "110               Texas Aggregates & Concrete Ass. PAC   \n",
       "129  Texas Oil & Gas Association Good Goverment Com...   \n",
       "102                                          TSCPA PAC   \n",
       "146                                      Terry Crofoot   \n",
       "22                               Christopher  Huckabee   \n",
       "51                                      George McMahan   \n",
       "148                                    Tilman Fertitta   \n",
       "7                                            Alvin New   \n",
       "140                                        Steven Hill   \n",
       "\n",
       "                           contributorNameOrganization  \n",
       "115                  Texas Association of Realtors PAC  \n",
       "14                                      At&t Texas PAC  \n",
       "99                                             THCAPAC  \n",
       "125              Texas Land Developers Association PAC  \n",
       "118                                                NaN  \n",
       "24                      Charter Communications Inc PAC  \n",
       "28                           Delisi Communications PAC  \n",
       "145                                                NaN  \n",
       "56                                                 NaN  \n",
       "20                                                 NaN  \n",
       "126                   Texas Land Title Association PAC  \n",
       "110               Texas Aggregates & Concrete Ass. PAC  \n",
       "129  Texas Oil & Gas Association Good Goverment Com...  \n",
       "102                                          TSCPA PAC  \n",
       "146                                                NaN  \n",
       "22                                                 NaN  \n",
       "51                                                 NaN  \n",
       "148                                                NaN  \n",
       "7                                                  NaN  \n",
       "140                                                NaN  "
      ]
     },
     "execution_count": 34,
     "metadata": {},
     "output_type": "execute_result"
    }
   ],
   "source": [
    "all_grouped"
   ]
  },
  {
   "cell_type": "code",
   "execution_count": 35,
   "metadata": {},
   "outputs": [
    {
     "data": {
      "text/plain": [
       "Text(0.5, 1.0, 'Charles Perry: Top 10 Contributors')"
      ]
     },
     "execution_count": 35,
     "metadata": {},
     "output_type": "execute_result"
    },
    {
     "data": {
      "image/png": "[encoded data removed]",
      "text/plain": [
       "<Figure size 432x288 with 1 Axes>"
      ]
     },
     "metadata": {
      "needs_background": "light"
     },
     "output_type": "display_data"
    }
   ],
   "source": [
    "all_chart = all_grouped.head(10).contributionAmount.plot.barh()\n",
    "all_chart.set_yticklabels(all_grouped.name + ': $' + all_grouped.contributionAmount.astype(int).astype(str))\n",
    "all_chart.set_title('Charles Perry: Top 10 Contributors')"
   ]
  },
  {
   "cell_type": "code",
   "execution_count": 36,
   "metadata": {},
   "outputs": [],
   "source": [
    "all_chart.figure.savefig('perry_all.png', bbox_inches='tight', pad_inches=0.5)"
   ]
  },
  {
   "cell_type": "code",
   "execution_count": 37,
   "metadata": {},
   "outputs": [],
   "source": [
    "individual_totals = individual_contribs_grouped.contributionAmount.sum()"
   ]
  },
  {
   "cell_type": "code",
   "execution_count": 38,
   "metadata": {},
   "outputs": [],
   "source": [
    "org_totals = org_contribs_grouped.contributionAmount.sum()"
   ]
  },
  {
   "cell_type": "code",
   "execution_count": 39,
   "metadata": {},
   "outputs": [],
   "source": [
    "comparison_totals = (individual_totals, org_totals)"
   ]
  },
  {
   "cell_type": "code",
   "execution_count": 40,
   "metadata": {},
   "outputs": [],
   "source": [
    "pl.rcdefaults()"
   ]
  },
  {
   "cell_type": "code",
   "execution_count": 41,
   "metadata": {},
   "outputs": [
    {
     "data": {
      "text/plain": [
       "Text(0.5, 1.0, 'Individual Donations vs Organizational Donations')"
      ]
     },
     "execution_count": 41,
     "metadata": {},
     "output_type": "execute_result"
    },
    {
     "data": {
      "image/png": "[encoded data removed]",
      "text/plain": [
       "<Figure size 640x480 with 1 Axes>"
      ]
     },
     "metadata": {},
     "output_type": "display_data"
    }
   ],
   "source": [
    "fig, ax = pl.subplots()\n",
    "\n",
    "groups = ('Individual Donors', 'Organizational Donors')\n",
    "\n",
    "y_pos = (1, 2)\n",
    "\n",
    "totals = comparison_totals\n",
    "\n",
    "ax.bar(y_pos, totals, align='center', width=0.75, color='#4f839c')\n",
    "\n",
    "ax.set_xticks(y_pos)\n",
    "\n",
    "ax.set_xticklabels(groups)\n",
    "\n",
    "ax.set_yticklabels(['$0', '$100,000', '$200,000', '$300,000', '$400,000', '$500,000'])\n",
    "\n",
    "ax.invert_xaxis()\n",
    "\n",
    "ax.set_ylabel('Total Contributions')\n",
    "\n",
    "ax.set_title('Individual Donations vs Organizational Donations')"
   ]
  },
  {
   "cell_type": "code",
   "execution_count": 42,
   "metadata": {},
   "outputs": [],
   "source": [
    "df = pd.DataFrame([comparison_totals], columns=['Individuals', 'Organizations'])"
   ]
  },
  {
   "cell_type": "code",
   "execution_count": 47,
   "metadata": {},
   "outputs": [
    {
     "data": {
      "text/plain": [
       "<Figure size 2000x300 with 0 Axes>"
      ]
     },
     "metadata": {},
     "output_type": "display_data"
    },
    {
     "data": {
      "image/png": "[encoded data removed]",
      "text/plain": [
       "<Figure size 640x480 with 1 Axes>"
      ]
     },
     "metadata": {},
     "output_type": "display_data"
    }
   ],
   "source": [
    "y_pos = [0, 1]\n",
    "chart_fig = pl.figure(figsize=(20, 3))\n",
    "comparison_bar = df.plot.barh(fig=chart_fig, align='edge', width=0.3)\n",
    "comparison_bar.invert_yaxis()\n",
    "comparison_bar.set_xticklabels(['$0', '$100,000', '$200,000', '$300,000', '$400,000', '$500,000'])\n",
    "comparison_bar.tick_params(\n",
    "    axis='y',\n",
    "    which='both',\n",
    "    left=False,\n",
    "    right=False,\n",
    "    labelleft=False\n",
    ")\n",
    "comparison_bar.patch.set_visible(False)"
   ]
  },
  {
   "cell_type": "code",
   "execution_count": 50,
   "metadata": {},
   "outputs": [],
   "source": [
    "comparison_bar\n",
    "pl.show(chart_fig)"
   ]
  }
 ],
 "metadata": {
  "kernelspec": {
   "display_name": "Python 3",
   "language": "python",
   "name": "python3"
  },
  "language_info": {
   "codemirror_mode": {
    "name": "ipython",
    "version": 3
   },
   "file_extension": ".py",
   "mimetype": "text/x-python",
   "name": "python",
   "nbconvert_exporter": "python",
   "pygments_lexer": "ipython3",
   "version": "3.6.1"
  }
 },
 "nbformat": 4,
 "nbformat_minor": 4
}

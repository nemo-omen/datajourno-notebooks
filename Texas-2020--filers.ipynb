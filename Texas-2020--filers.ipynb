{
 "cells": [
  {
   "cell_type": "markdown",
   "metadata": {},
   "source": [
    "## Texas 2020\n",
    "\n",
    "I'm going to try to wrestle with some of the data provided by the Texas Ethics Commission.\n",
    "\n",
    "So far, what I've found is that they provide multipls CSV files dating back to 2000. Unfortunately, they provide *all* of the filings dating back to 2000. When I downloaded them I received 40 files named contrib_* ... each of them with almost 500,000 rows of data.\n",
    "\n",
    "The other problem, is that these 'contrib' files don't have a one-to-one mapping of contributions to candidates, so I have to find in the data candidate ID (or something similar) is mapped to a candidate's name or campaign.\n",
    "\n",
    "Instructions for deciphering the data are located in the TEC-README file, which is a copy of the readme provided by the TEC."
   ]
  },
  {
   "cell_type": "markdown",
   "metadata": {},
   "source": [
    "It looks like _cover.csv_ might be the place where I can map a filer's name to the `filerIdent` field. "
   ]
  },
  {
   "cell_type": "markdown",
   "metadata": {},
   "source": [
    "Also, check _filers.csv_ "
   ]
  },
  {
   "cell_type": "code",
   "execution_count": 9,
   "metadata": {},
   "outputs": [],
   "source": [
    "import pandas as pd\n",
    "\n",
    "import matplotlib as pl\n",
    "\n",
    "import mpld3 as d3"
   ]
  },
  {
   "cell_type": "code",
   "execution_count": 10,
   "metadata": {},
   "outputs": [],
   "source": [
    "c_35 = pd.read_csv('tx-ethics-filings/TEC_CF_CSV/contribs_35.csv', usecols = ['receivedDt', 'filerIdent', 'filerName', 'contributionDt', 'contributionAmount', 'contributorNameFirst', 'contributorNameLast', 'contributorNameOrganization'], low_memory=False)"
   ]
  },
  {
   "cell_type": "code",
   "execution_count": 11,
   "metadata": {},
   "outputs": [
    {
     "data": {
      "text/html": [
       "<div>\n",
       "<style scoped>\n",
       "    .dataframe tbody tr th:only-of-type {\n",
       "        vertical-align: middle;\n",
       "    }\n",
       "\n",
       "    .dataframe tbody tr th {\n",
       "        vertical-align: top;\n",
       "    }\n",
       "\n",
       "    .dataframe thead th {\n",
       "        text-align: right;\n",
       "    }\n",
       "</style>\n",
       "<table border=\"1\" class=\"dataframe\">\n",
       "  <thead>\n",
       "    <tr style=\"text-align: right;\">\n",
       "      <th></th>\n",
       "      <th>receivedDt</th>\n",
       "      <th>filerIdent</th>\n",
       "      <th>filerName</th>\n",
       "      <th>contributionDt</th>\n",
       "      <th>contributionAmount</th>\n",
       "      <th>contributorNameOrganization</th>\n",
       "      <th>contributorNameLast</th>\n",
       "      <th>contributorNameFirst</th>\n",
       "    </tr>\n",
       "  </thead>\n",
       "  <tbody>\n",
       "    <tr>\n",
       "      <th>0</th>\n",
       "      <td>20180502</td>\n",
       "      <td>16847</td>\n",
       "      <td>United Services Automobile Association Employe...</td>\n",
       "      <td>20180419</td>\n",
       "      <td>10.00</td>\n",
       "      <td>NaN</td>\n",
       "      <td>Clark</td>\n",
       "      <td>Michael</td>\n",
       "    </tr>\n",
       "    <tr>\n",
       "      <th>1</th>\n",
       "      <td>20180502</td>\n",
       "      <td>16847</td>\n",
       "      <td>United Services Automobile Association Employe...</td>\n",
       "      <td>20180405</td>\n",
       "      <td>6.00</td>\n",
       "      <td>NaN</td>\n",
       "      <td>Clark</td>\n",
       "      <td>Steve</td>\n",
       "    </tr>\n",
       "    <tr>\n",
       "      <th>2</th>\n",
       "      <td>20180502</td>\n",
       "      <td>16847</td>\n",
       "      <td>United Services Automobile Association Employe...</td>\n",
       "      <td>20180419</td>\n",
       "      <td>6.00</td>\n",
       "      <td>NaN</td>\n",
       "      <td>Clark</td>\n",
       "      <td>Steve</td>\n",
       "    </tr>\n",
       "    <tr>\n",
       "      <th>3</th>\n",
       "      <td>20180502</td>\n",
       "      <td>16847</td>\n",
       "      <td>United Services Automobile Association Employe...</td>\n",
       "      <td>20180405</td>\n",
       "      <td>33.51</td>\n",
       "      <td>NaN</td>\n",
       "      <td>Clark</td>\n",
       "      <td>Taylor</td>\n",
       "    </tr>\n",
       "    <tr>\n",
       "      <th>4</th>\n",
       "      <td>20180502</td>\n",
       "      <td>16847</td>\n",
       "      <td>United Services Automobile Association Employe...</td>\n",
       "      <td>20180419</td>\n",
       "      <td>33.51</td>\n",
       "      <td>NaN</td>\n",
       "      <td>Clark</td>\n",
       "      <td>Taylor</td>\n",
       "    </tr>\n",
       "    <tr>\n",
       "      <th>...</th>\n",
       "      <td>...</td>\n",
       "      <td>...</td>\n",
       "      <td>...</td>\n",
       "      <td>...</td>\n",
       "      <td>...</td>\n",
       "      <td>...</td>\n",
       "      <td>...</td>\n",
       "      <td>...</td>\n",
       "    </tr>\n",
       "    <tr>\n",
       "      <th>397289</th>\n",
       "      <td>20180726</td>\n",
       "      <td>16249</td>\n",
       "      <td>Texas Bankers Assn. Bankers PAC</td>\n",
       "      <td>20180725</td>\n",
       "      <td>10.00</td>\n",
       "      <td>NaN</td>\n",
       "      <td>Holman</td>\n",
       "      <td>Kristi</td>\n",
       "    </tr>\n",
       "    <tr>\n",
       "      <th>397290</th>\n",
       "      <td>20180726</td>\n",
       "      <td>16249</td>\n",
       "      <td>Texas Bankers Assn. Bankers PAC</td>\n",
       "      <td>20180725</td>\n",
       "      <td>10.00</td>\n",
       "      <td>NaN</td>\n",
       "      <td>Leyva Varela</td>\n",
       "      <td>Rosario</td>\n",
       "    </tr>\n",
       "    <tr>\n",
       "      <th>397291</th>\n",
       "      <td>20180726</td>\n",
       "      <td>16249</td>\n",
       "      <td>Texas Bankers Assn. Bankers PAC</td>\n",
       "      <td>20180725</td>\n",
       "      <td>20.00</td>\n",
       "      <td>NaN</td>\n",
       "      <td>Moreno</td>\n",
       "      <td>Christina</td>\n",
       "    </tr>\n",
       "    <tr>\n",
       "      <th>397292</th>\n",
       "      <td>20180726</td>\n",
       "      <td>16249</td>\n",
       "      <td>Texas Bankers Assn. Bankers PAC</td>\n",
       "      <td>20180720</td>\n",
       "      <td>100.00</td>\n",
       "      <td>Texas Bankers Association (money contribution ...</td>\n",
       "      <td>NaN</td>\n",
       "      <td>NaN</td>\n",
       "    </tr>\n",
       "    <tr>\n",
       "      <th>397293</th>\n",
       "      <td>20180726</td>\n",
       "      <td>16249</td>\n",
       "      <td>Texas Bankers Assn. Bankers PAC</td>\n",
       "      <td>20180630</td>\n",
       "      <td>1835.97</td>\n",
       "      <td>Texas Bankers Association (inkind salaries for...</td>\n",
       "      <td>NaN</td>\n",
       "      <td>NaN</td>\n",
       "    </tr>\n",
       "  </tbody>\n",
       "</table>\n",
       "<p>397294 rows × 8 columns</p>\n",
       "</div>"
      ],
      "text/plain": [
       "        receivedDt  filerIdent  \\\n",
       "0         20180502       16847   \n",
       "1         20180502       16847   \n",
       "2         20180502       16847   \n",
       "3         20180502       16847   \n",
       "4         20180502       16847   \n",
       "...            ...         ...   \n",
       "397289    20180726       16249   \n",
       "397290    20180726       16249   \n",
       "397291    20180726       16249   \n",
       "397292    20180726       16249   \n",
       "397293    20180726       16249   \n",
       "\n",
       "                                                filerName  contributionDt  \\\n",
       "0       United Services Automobile Association Employe...        20180419   \n",
       "1       United Services Automobile Association Employe...        20180405   \n",
       "2       United Services Automobile Association Employe...        20180419   \n",
       "3       United Services Automobile Association Employe...        20180405   \n",
       "4       United Services Automobile Association Employe...        20180419   \n",
       "...                                                   ...             ...   \n",
       "397289                    Texas Bankers Assn. Bankers PAC        20180725   \n",
       "397290                    Texas Bankers Assn. Bankers PAC        20180725   \n",
       "397291                    Texas Bankers Assn. Bankers PAC        20180725   \n",
       "397292                    Texas Bankers Assn. Bankers PAC        20180720   \n",
       "397293                    Texas Bankers Assn. Bankers PAC        20180630   \n",
       "\n",
       "        contributionAmount                        contributorNameOrganization  \\\n",
       "0                    10.00                                                NaN   \n",
       "1                     6.00                                                NaN   \n",
       "2                     6.00                                                NaN   \n",
       "3                    33.51                                                NaN   \n",
       "4                    33.51                                                NaN   \n",
       "...                    ...                                                ...   \n",
       "397289               10.00                                                NaN   \n",
       "397290               10.00                                                NaN   \n",
       "397291               20.00                                                NaN   \n",
       "397292              100.00  Texas Bankers Association (money contribution ...   \n",
       "397293             1835.97  Texas Bankers Association (inkind salaries for...   \n",
       "\n",
       "       contributorNameLast contributorNameFirst  \n",
       "0                    Clark              Michael  \n",
       "1                    Clark                Steve  \n",
       "2                    Clark                Steve  \n",
       "3                    Clark               Taylor  \n",
       "4                    Clark               Taylor  \n",
       "...                    ...                  ...  \n",
       "397289              Holman               Kristi  \n",
       "397290        Leyva Varela              Rosario  \n",
       "397291              Moreno            Christina  \n",
       "397292                 NaN                  NaN  \n",
       "397293                 NaN                  NaN  \n",
       "\n",
       "[397294 rows x 8 columns]"
      ]
     },
     "execution_count": 11,
     "metadata": {},
     "output_type": "execute_result"
    }
   ],
   "source": [
    "c_35"
   ]
  },
  {
   "cell_type": "code",
   "execution_count": 12,
   "metadata": {},
   "outputs": [],
   "source": [
    "c_35 = c_35[c_35.receivedDt >= 20181231.0]"
   ]
  },
  {
   "cell_type": "code",
   "execution_count": 13,
   "metadata": {},
   "outputs": [],
   "source": [
    "c_36 = pd.read_csv('tx-ethics-filings/TEC_CF_CSV/contribs_36.csv', usecols = ['receivedDt', 'filerIdent', 'filerName', 'contributionDt', 'contributionAmount', 'contributorNameFirst', 'contributorNameLast', 'contributorNameOrganization'], low_memory=False)"
   ]
  },
  {
   "cell_type": "code",
   "execution_count": 14,
   "metadata": {},
   "outputs": [],
   "source": [
    "c_37 = pd.read_csv('tx-ethics-filings/TEC_CF_CSV/contribs_37.csv', usecols = ['receivedDt', 'filerIdent', 'filerName', 'contributionDt', 'contributionAmount', 'contributorNameFirst', 'contributorNameLast', 'contributorNameOrganization'], low_memory=False)"
   ]
  },
  {
   "cell_type": "code",
   "execution_count": 15,
   "metadata": {},
   "outputs": [],
   "source": [
    "darby_c_37 = c_37[c_37.filerIdent == 51651]"
   ]
  },
  {
   "cell_type": "code",
   "execution_count": 16,
   "metadata": {},
   "outputs": [],
   "source": [
    "c_38 = pd.read_csv('tx-ethics-filings/TEC_CF_CSV/contribs_38.csv', usecols = ['receivedDt', 'filerIdent', 'filerName', 'contributionDt', 'contributionAmount', 'contributorNameFirst', 'contributorNameLast', 'contributorNameOrganization'], low_memory=False)"
   ]
  },
  {
   "cell_type": "code",
   "execution_count": 17,
   "metadata": {},
   "outputs": [],
   "source": [
    "darby_c_38 = c_38[c_38.filerIdent == 51651]"
   ]
  },
  {
   "cell_type": "code",
   "execution_count": 18,
   "metadata": {},
   "outputs": [],
   "source": [
    "c_39 = pd.read_csv('tx-ethics-filings/TEC_CF_CSV/contribs_39.csv', usecols = ['receivedDt', 'filerIdent', 'filerName', 'contributionDt', 'contributionAmount', 'contributorNameFirst', 'contributorNameLast', 'contributorNameOrganization'], low_memory=False)"
   ]
  },
  {
   "cell_type": "code",
   "execution_count": 19,
   "metadata": {},
   "outputs": [],
   "source": [
    "darby_c_39 = c_39[c_39.filerIdent == 51651]"
   ]
  },
  {
   "cell_type": "code",
   "execution_count": 20,
   "metadata": {},
   "outputs": [],
   "source": [
    "c_40 = pd.read_csv('tx-ethics-filings/TEC_CF_CSV/contribs_40.csv', usecols = ['receivedDt', 'filerIdent', 'filerName', 'contributionDt', 'contributionAmount', 'contributorNameFirst', 'contributorNameLast', 'contributorNameOrganization'], low_memory=False)"
   ]
  },
  {
   "cell_type": "code",
   "execution_count": 21,
   "metadata": {},
   "outputs": [],
   "source": [
    "darby_c_40 = c_40[c_40.filerIdent == 51651]"
   ]
  },
  {
   "cell_type": "code",
   "execution_count": 22,
   "metadata": {},
   "outputs": [],
   "source": [
    "darby_contribs = darby_c_37.append([darby_c_38, darby_c_39, darby_c_40], sort=False).sort_values(by=['contributionAmount', 'contributorNameOrganization'], ascending=True).to_csv('local-contribs/darby.csv')"
   ]
  },
  {
   "cell_type": "code",
   "execution_count": 23,
   "metadata": {},
   "outputs": [],
   "source": [
    "perry_c_36 = c_36[c_36.filerIdent == 66066]"
   ]
  },
  {
   "cell_type": "code",
   "execution_count": 24,
   "metadata": {},
   "outputs": [],
   "source": [
    "perry_c_37 = c_37[c_37.filerIdent == 66066]"
   ]
  },
  {
   "cell_type": "code",
   "execution_count": 25,
   "metadata": {},
   "outputs": [],
   "source": [
    "perry_c_38 = c_38[c_38.filerIdent == 66066]\n",
    "perry_c_39 = c_39[c_39.filerIdent == 66066]\n",
    "perry_c_40 = c_40[c_40.filerIdent == 66066]"
   ]
  },
  {
   "cell_type": "code",
   "execution_count": 26,
   "metadata": {},
   "outputs": [],
   "source": [
    "perry_contribs = perry_c_36.append([perry_c_37, perry_c_38, perry_c_39, perry_c_40], sort=False).sort_values(by=['contributionAmount', 'contributorNameOrganization'], ascending=True)"
   ]
  },
  {
   "cell_type": "code",
   "execution_count": 27,
   "metadata": {},
   "outputs": [],
   "source": [
    "perry_csv = perry_contribs.to_csv('local-contribs/perry.csv')"
   ]
  },
  {
   "cell_type": "code",
   "execution_count": 28,
   "metadata": {},
   "outputs": [
    {
     "name": "stdout",
     "output_type": "stream",
     "text": [
      "<class 'pandas.core.frame.DataFrame'>\n",
      "Int64Index: 630 entries, 258398 to 117409\n",
      "Data columns (total 8 columns):\n",
      "receivedDt                     630 non-null int64\n",
      "filerIdent                     630 non-null int64\n",
      "filerName                      630 non-null object\n",
      "contributionDt                 630 non-null int64\n",
      "contributionAmount             630 non-null float64\n",
      "contributorNameOrganization    303 non-null object\n",
      "contributorNameLast            327 non-null object\n",
      "contributorNameFirst           327 non-null object\n",
      "dtypes: float64(1), int64(3), object(4)\n",
      "memory usage: 34.5+ KB\n"
     ]
    }
   ],
   "source": [
    "perry_contribs.info()"
   ]
  },
  {
   "cell_type": "code",
   "execution_count": 29,
   "metadata": {},
   "outputs": [],
   "source": [
    "perry_totals = perry_contribs.contributionAmount.sum()"
   ]
  },
  {
   "cell_type": "code",
   "execution_count": 30,
   "metadata": {},
   "outputs": [
    {
     "data": {
      "text/plain": [
       "714965.85"
      ]
     },
     "execution_count": 30,
     "metadata": {},
     "output_type": "execute_result"
    }
   ],
   "source": [
    "perry_totals"
   ]
  },
  {
   "cell_type": "code",
   "execution_count": 31,
   "metadata": {},
   "outputs": [],
   "source": [
    "individual_contribs_grouped = perry_contribs.groupby([\"contributorNameFirst\", \"contributorNameLast\"]).contributionAmount.sum().reset_index().sort_values(\"contributionAmount\", ascending=False)"
   ]
  },
  {
   "cell_type": "code",
   "execution_count": 32,
   "metadata": {},
   "outputs": [],
   "source": [
    "org_contribs_grouped = perry_contribs.groupby(\"contributorNameOrganization\").contributionAmount.sum().reset_index().sort_values(\"contributionAmount\", ascending=False)"
   ]
  },
  {
   "cell_type": "code",
   "execution_count": 33,
   "metadata": {},
   "outputs": [],
   "source": [
    "individual_contribs_grouped.to_csv('local-contribs/perry-grouped-individual.csv')"
   ]
  },
  {
   "cell_type": "code",
   "execution_count": 34,
   "metadata": {},
   "outputs": [],
   "source": [
    "org_contribs_grouped.to_csv('local-contribs/perry-grouped-orgs.csv')"
   ]
  },
  {
   "cell_type": "code",
   "execution_count": 35,
   "metadata": {},
   "outputs": [],
   "source": [
    "%matplotlib inline"
   ]
  },
  {
   "cell_type": "code",
   "execution_count": 36,
   "metadata": {},
   "outputs": [
    {
     "data": {
      "text/plain": [
       "Text(0.5, 1.0, 'Charles Perry: Highest Contributing Organizations')"
      ]
     },
     "execution_count": 36,
     "metadata": {},
     "output_type": "execute_result"
    },
    {
     "data": {
      "image/png": "[encoded data removed]",
      "text/plain": [
       "<Figure size 432x288 with 1 Axes>"
      ]
     },
     "metadata": {
      "needs_background": "light"
     },
     "output_type": "display_data"
    }
   ],
   "source": [
    "org_chart = org_contribs_grouped.head(10).contributionAmount.plot.barh()\n",
    "org_chart.set_yticklabels(org_contribs_grouped.contributorNameOrganization)\n",
    "org_chart.set_title('Charles Perry: Highest Contributing Organizations')"
   ]
  },
  {
   "cell_type": "code",
   "execution_count": 37,
   "metadata": {},
   "outputs": [
    {
     "data": {
      "text/plain": [
       "Text(0.5, 1.0, 'Charles Perry: Highest Contributing Individuals')"
      ]
     },
     "execution_count": 37,
     "metadata": {},
     "output_type": "execute_result"
    },
    {
     "data": {
      "image/png": "[encoded data removed]",
      "text/plain": [
       "<Figure size 432x288 with 1 Axes>"
      ]
     },
     "metadata": {
      "needs_background": "light"
     },
     "output_type": "display_data"
    }
   ],
   "source": [
    "individual_chart = individual_contribs_grouped.head(10).contributionAmount.plot.barh()\n",
    "individual_chart.set_yticklabels(individual_contribs_grouped.contributorNameFirst + ' ' + individual_contribs_grouped.contributorNameLast)\n",
    "individual_chart.set_title('Charles Perry: Highest Contributing Individuals')"
   ]
  }
 ],
 "metadata": {
  "kernelspec": {
   "display_name": "Python 3",
   "language": "python",
   "name": "python3"
  },
  "language_info": {
   "codemirror_mode": {
    "name": "ipython",
    "version": 3
   },
   "file_extension": ".py",
   "mimetype": "text/x-python",
   "name": "python",
   "nbconvert_exporter": "python",
   "pygments_lexer": "ipython3",
   "version": "3.6.1"
  }
 },
 "nbformat": 4,
 "nbformat_minor": 4
}

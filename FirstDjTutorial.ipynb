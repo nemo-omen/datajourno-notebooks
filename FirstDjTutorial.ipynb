{
 "cells": [
  {
   "cell_type": "markdown",
   "metadata": {},
   "source": [
    "## Setup"
   ]
  },
  {
   "cell_type": "markdown",
   "metadata": {},
   "source": [
    "1. `virtualenv <some-working-directory>`\n",
    "    `cd <some-working-directory>`\n",
    "    `source bin/activate`\n",
    "2. `pip install jupyterlab`\n",
    "\n",
    "3. `pip install pandas as pd`\n",
    "    `pip install matplotlib as pl`\n",
    "    `pip install mpld3`\n",
    "4. `git init`\n",
    "   `git remote add origin https://github.com/my-user-name/my-notebook-repository`\n",
    "   `git pull origin master`\n",
    "5. `jupyter lab`"
   ]
  },
  {
   "cell_type": "code",
   "execution_count": 2,
   "metadata": {},
   "outputs": [],
   "source": [
    "import pandas as pd\n",
    "import matplotlib as pl\n",
    "import mpld3 as d3"
   ]
  },
  {
   "cell_type": "code",
   "execution_count": 1,
   "metadata": {},
   "outputs": [],
   "source": [
    "words = 'Hey now then there now'\n",
    "\n",
    "def sayWords(phrase):\n",
    "    print(phrase)"
   ]
  },
  {
   "cell_type": "code",
   "execution_count": 2,
   "metadata": {},
   "outputs": [
    {
     "name": "stdout",
     "output_type": "stream",
     "text": [
      "Hey now then there now\n"
     ]
    }
   ],
   "source": [
    "sayWords(words)"
   ]
  },
  {
   "cell_type": "markdown",
   "metadata": {},
   "source": [
    "It's helpful to install jupyterlabs as well as the jupyterlabs git extension. This helps make managing notebooks and repositories much, much easier.\n",
    "\n",
    "`pip install jupyterlab`\n",
    "\n",
    "`pip install jupyterlab-git`"
   ]
  }
 ],
 "metadata": {
  "kernelspec": {
   "display_name": "Python 3",
   "language": "python",
   "name": "python3"
  },
  "language_info": {
   "codemirror_mode": {
    "name": "ipython",
    "version": 3
   },
   "file_extension": ".py",
   "mimetype": "text/x-python",
   "name": "python",
   "nbconvert_exporter": "python",
   "pygments_lexer": "ipython3",
   "version": "3.6.1"
  }
 },
 "nbformat": 4,
 "nbformat_minor": 4
}
